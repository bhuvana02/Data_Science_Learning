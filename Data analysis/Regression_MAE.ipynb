{
 "cells": [
  {
   "cell_type": "markdown",
   "metadata": {
    "colab_type": "text",
    "id": "6tkHInSfW8zx"
   },
   "source": [
    "# Regression Benchmark "
   ]
  },
  {
   "cell_type": "markdown",
   "metadata": {},
   "source": [
    "### Problem Statement"
   ]
  },
  {
   "cell_type": "markdown",
   "metadata": {},
   "source": [
    "Bike sharing systems are new generation of traditional bike rentals where whole process from membership, rental and return back has become automatic. Through these systems, user is able to easily rent a bike from a particular position and return back at another position. \n",
    "\n",
    "Opposed to other transport services such as bus or subway, the duration of travel, departure and arrival position is explicitly recorded in these systems. This feature turns bike sharing system into a virtual sensor network that can be used for sensing mobility in the city.\n",
    "\n",
    "To make the process seamless, and ensure that enough bikes are available for the people, we need to predict the count of bikes required in the coming month based on the past data."
   ]
  },
  {
   "cell_type": "markdown",
   "metadata": {},
   "source": [
    "- date:       Date in \"yyyy-mm-dd\" format\n",
    "- season:     Four categories-> 1 = spring, 2 = summer, 3 = fall, 4 = winter\n",
    "- month:      Extracted from the date variable\n",
    "- hour:       Hour of the day\n",
    "- holiday:    whether the day is a holiday or not (1/0)\n",
    "- workingday: whether the day is neither a weekend nor holiday (1/0)\n",
    "- weather:    Four Categories of weather\n",
    "            * 1-> Clear, Few clouds, Partly cloudy, Partly cloudy\n",
    "            * 2-> Mist + Cloudy, Mist + Broken clouds, Mist + Few clouds, Mist\n",
    "            * 3-> Light Snow and Rain + Thunderstorm + Scattered clouds, Light Rain + Scattered clouds\n",
    "            * 4-> Heavy Rain + Ice Pallets + Thunderstorm + Mist, Snow + Fog\n",
    "- temp:       hourly temperature in Celsius\n",
    "- atemp:      \"feels like\" temperature in Celsius\n",
    "- humidity:   relative humidity\n",
    "- windspeed:  wind speed\n",
    "\n",
    "\n",
    "- registered: number of registered user\n",
    "- casual:     number of non-registered user\n",
    "- count:      number of total rentals (registered + casual)"
   ]
  },
  {
   "cell_type": "markdown",
   "metadata": {
    "colab_type": "text",
    "id": "TnpF7FyVXBhF"
   },
   "source": [
    "### Importing Libraries"
   ]
  },
  {
   "cell_type": "code",
   "execution_count": 1,
   "metadata": {
    "colab": {},
    "colab_type": "code",
    "id": "YMgin9nXbNy7"
   },
   "outputs": [],
   "source": [
    "#importing libraries \n",
    "\n",
    "import pandas as pd \n",
    "import numpy as np\n",
    "import matplotlib.pyplot as plt\n",
    "\n",
    "import warnings\n",
    "warnings.filterwarnings(\"ignore\")"
   ]
  },
  {
   "cell_type": "markdown",
   "metadata": {
    "colab_type": "text",
    "id": "ktsQxjBRXHAj"
   },
   "source": [
    "### Importing Dataset"
   ]
  },
  {
   "cell_type": "code",
   "execution_count": 2,
   "metadata": {
    "colab": {},
    "colab_type": "code",
    "id": "lI2e8MjJbNzC"
   },
   "outputs": [
    {
     "data": {
      "text/plain": [
       "(17379, 16)"
      ]
     },
     "execution_count": 2,
     "metadata": {},
     "output_type": "execute_result"
    }
   ],
   "source": [
    "df=pd.read_csv('hour.csv')\n",
    "df.shape"
   ]
  },
  {
   "cell_type": "code",
   "execution_count": 3,
   "metadata": {
    "colab": {
     "base_uri": "https://localhost:8080/",
     "height": 313
    },
    "colab_type": "code",
    "id": "dw2yqvCsbNzI",
    "outputId": "1a11f4e6-1167-4b52-f710-01625d378443"
   },
   "outputs": [
    {
     "data": {
      "text/html": [
       "<div>\n",
       "<style scoped>\n",
       "    .dataframe tbody tr th:only-of-type {\n",
       "        vertical-align: middle;\n",
       "    }\n",
       "\n",
       "    .dataframe tbody tr th {\n",
       "        vertical-align: top;\n",
       "    }\n",
       "\n",
       "    .dataframe thead th {\n",
       "        text-align: right;\n",
       "    }\n",
       "</style>\n",
       "<table border=\"1\" class=\"dataframe\">\n",
       "  <thead>\n",
       "    <tr style=\"text-align: right;\">\n",
       "      <th></th>\n",
       "      <th>0</th>\n",
       "      <th>1</th>\n",
       "      <th>2</th>\n",
       "      <th>3</th>\n",
       "      <th>4</th>\n",
       "    </tr>\n",
       "  </thead>\n",
       "  <tbody>\n",
       "    <tr>\n",
       "      <th>instant</th>\n",
       "      <td>1</td>\n",
       "      <td>2</td>\n",
       "      <td>3</td>\n",
       "      <td>4</td>\n",
       "      <td>5</td>\n",
       "    </tr>\n",
       "    <tr>\n",
       "      <th>date</th>\n",
       "      <td>2011-01-01</td>\n",
       "      <td>2011-01-01</td>\n",
       "      <td>2011-01-01</td>\n",
       "      <td>2011-01-01</td>\n",
       "      <td>2011-01-01</td>\n",
       "    </tr>\n",
       "    <tr>\n",
       "      <th>season</th>\n",
       "      <td>1</td>\n",
       "      <td>1</td>\n",
       "      <td>1</td>\n",
       "      <td>1</td>\n",
       "      <td>1</td>\n",
       "    </tr>\n",
       "    <tr>\n",
       "      <th>month</th>\n",
       "      <td>1</td>\n",
       "      <td>1</td>\n",
       "      <td>1</td>\n",
       "      <td>1</td>\n",
       "      <td>1</td>\n",
       "    </tr>\n",
       "    <tr>\n",
       "      <th>hour</th>\n",
       "      <td>0</td>\n",
       "      <td>1</td>\n",
       "      <td>2</td>\n",
       "      <td>3</td>\n",
       "      <td>4</td>\n",
       "    </tr>\n",
       "    <tr>\n",
       "      <th>holiday</th>\n",
       "      <td>0</td>\n",
       "      <td>0</td>\n",
       "      <td>0</td>\n",
       "      <td>0</td>\n",
       "      <td>0</td>\n",
       "    </tr>\n",
       "    <tr>\n",
       "      <th>weekday</th>\n",
       "      <td>6</td>\n",
       "      <td>6</td>\n",
       "      <td>6</td>\n",
       "      <td>6</td>\n",
       "      <td>6</td>\n",
       "    </tr>\n",
       "    <tr>\n",
       "      <th>workingday</th>\n",
       "      <td>0</td>\n",
       "      <td>0</td>\n",
       "      <td>0</td>\n",
       "      <td>0</td>\n",
       "      <td>0</td>\n",
       "    </tr>\n",
       "    <tr>\n",
       "      <th>weather</th>\n",
       "      <td>1</td>\n",
       "      <td>1</td>\n",
       "      <td>1</td>\n",
       "      <td>1</td>\n",
       "      <td>1</td>\n",
       "    </tr>\n",
       "    <tr>\n",
       "      <th>temp</th>\n",
       "      <td>0.24</td>\n",
       "      <td>0.22</td>\n",
       "      <td>0.22</td>\n",
       "      <td>0.24</td>\n",
       "      <td>0.24</td>\n",
       "    </tr>\n",
       "    <tr>\n",
       "      <th>atemp</th>\n",
       "      <td>0.2879</td>\n",
       "      <td>0.2727</td>\n",
       "      <td>0.2727</td>\n",
       "      <td>0.2879</td>\n",
       "      <td>0.2879</td>\n",
       "    </tr>\n",
       "    <tr>\n",
       "      <th>humidity</th>\n",
       "      <td>0.81</td>\n",
       "      <td>0.8</td>\n",
       "      <td>0.8</td>\n",
       "      <td>0.75</td>\n",
       "      <td>0.75</td>\n",
       "    </tr>\n",
       "    <tr>\n",
       "      <th>windspeed</th>\n",
       "      <td>0.0</td>\n",
       "      <td>0.0</td>\n",
       "      <td>0.0</td>\n",
       "      <td>0.0</td>\n",
       "      <td>0.0</td>\n",
       "    </tr>\n",
       "    <tr>\n",
       "      <th>casual</th>\n",
       "      <td>3</td>\n",
       "      <td>8</td>\n",
       "      <td>5</td>\n",
       "      <td>3</td>\n",
       "      <td>0</td>\n",
       "    </tr>\n",
       "    <tr>\n",
       "      <th>registered</th>\n",
       "      <td>13</td>\n",
       "      <td>32</td>\n",
       "      <td>27</td>\n",
       "      <td>10</td>\n",
       "      <td>1</td>\n",
       "    </tr>\n",
       "    <tr>\n",
       "      <th>count</th>\n",
       "      <td>16</td>\n",
       "      <td>40</td>\n",
       "      <td>32</td>\n",
       "      <td>13</td>\n",
       "      <td>1</td>\n",
       "    </tr>\n",
       "  </tbody>\n",
       "</table>\n",
       "</div>"
      ],
      "text/plain": [
       "                     0           1           2           3           4\n",
       "instant              1           2           3           4           5\n",
       "date        2011-01-01  2011-01-01  2011-01-01  2011-01-01  2011-01-01\n",
       "season               1           1           1           1           1\n",
       "month                1           1           1           1           1\n",
       "hour                 0           1           2           3           4\n",
       "holiday              0           0           0           0           0\n",
       "weekday              6           6           6           6           6\n",
       "workingday           0           0           0           0           0\n",
       "weather              1           1           1           1           1\n",
       "temp              0.24        0.22        0.22        0.24        0.24\n",
       "atemp           0.2879      0.2727      0.2727      0.2879      0.2879\n",
       "humidity          0.81         0.8         0.8        0.75        0.75\n",
       "windspeed          0.0         0.0         0.0         0.0         0.0\n",
       "casual               3           8           5           3           0\n",
       "registered          13          32          27          10           1\n",
       "count               16          40          32          13           1"
      ]
     },
     "execution_count": 3,
     "metadata": {},
     "output_type": "execute_result"
    }
   ],
   "source": [
    "df.head().T"
   ]
  },
  {
   "cell_type": "markdown",
   "metadata": {
    "colab_type": "text",
    "id": "P0-yEXH5XLFr"
   },
   "source": [
    "### Shuffling and Creating Train and Test Set"
   ]
  },
  {
   "cell_type": "markdown",
   "metadata": {},
   "source": [
    "Task 1:\n",
    "\n",
    "- Shuffle the dataset\n",
    "- Create Train and Validation set"
   ]
  },
  {
   "cell_type": "code",
   "execution_count": 4,
   "metadata": {},
   "outputs": [],
   "source": [
    "## Shuffling the Dataset\n",
    "from sklearn.utils import shuffle\n",
    "data = shuffle(df, random_state=33)"
   ]
  },
  {
   "cell_type": "code",
   "execution_count": 5,
   "metadata": {},
   "outputs": [],
   "source": [
    "#creating 4 divisions\n",
    "div = int(data.shape[0]/4)\n",
    "\n",
    "# 3 parts to train set and 1 part to test set\n",
    "train = data.iloc[:3*div+1]\n",
    "test = data.iloc[3*div+1:]"
   ]
  },
  {
   "cell_type": "code",
   "execution_count": 6,
   "metadata": {},
   "outputs": [
    {
     "data": {
      "text/plain": [
       "((13033, 16), (4346, 16), (17379, 16))"
      ]
     },
     "execution_count": 6,
     "metadata": {},
     "output_type": "execute_result"
    }
   ],
   "source": [
    "train.shape, test.shape, data.shape"
   ]
  },
  {
   "cell_type": "code",
   "execution_count": 7,
   "metadata": {
    "colab": {
     "base_uri": "https://localhost:8080/",
     "height": 330
    },
    "colab_type": "code",
    "id": "CjlvWwGjbNzS",
    "outputId": "8aa6e75e-fa61-41b3-c3c1-4a0a60658c59"
   },
   "outputs": [
    {
     "data": {
      "text/html": [
       "<div>\n",
       "<style scoped>\n",
       "    .dataframe tbody tr th:only-of-type {\n",
       "        vertical-align: middle;\n",
       "    }\n",
       "\n",
       "    .dataframe tbody tr th {\n",
       "        vertical-align: top;\n",
       "    }\n",
       "\n",
       "    .dataframe thead th {\n",
       "        text-align: right;\n",
       "    }\n",
       "</style>\n",
       "<table border=\"1\" class=\"dataframe\">\n",
       "  <thead>\n",
       "    <tr style=\"text-align: right;\">\n",
       "      <th></th>\n",
       "      <th>instant</th>\n",
       "      <th>date</th>\n",
       "      <th>season</th>\n",
       "      <th>month</th>\n",
       "      <th>hour</th>\n",
       "      <th>holiday</th>\n",
       "      <th>weekday</th>\n",
       "      <th>workingday</th>\n",
       "      <th>weather</th>\n",
       "      <th>temp</th>\n",
       "      <th>atemp</th>\n",
       "      <th>humidity</th>\n",
       "      <th>windspeed</th>\n",
       "      <th>casual</th>\n",
       "      <th>registered</th>\n",
       "      <th>count</th>\n",
       "    </tr>\n",
       "  </thead>\n",
       "  <tbody>\n",
       "    <tr>\n",
       "      <th>11215</th>\n",
       "      <td>11216</td>\n",
       "      <td>2012-04-17</td>\n",
       "      <td>2</td>\n",
       "      <td>4</td>\n",
       "      <td>12</td>\n",
       "      <td>0</td>\n",
       "      <td>2</td>\n",
       "      <td>1</td>\n",
       "      <td>1</td>\n",
       "      <td>0.60</td>\n",
       "      <td>0.6212</td>\n",
       "      <td>0.33</td>\n",
       "      <td>0.3582</td>\n",
       "      <td>65</td>\n",
       "      <td>179</td>\n",
       "      <td>244</td>\n",
       "    </tr>\n",
       "    <tr>\n",
       "      <th>12940</th>\n",
       "      <td>12941</td>\n",
       "      <td>2012-06-28</td>\n",
       "      <td>3</td>\n",
       "      <td>6</td>\n",
       "      <td>9</td>\n",
       "      <td>0</td>\n",
       "      <td>4</td>\n",
       "      <td>1</td>\n",
       "      <td>1</td>\n",
       "      <td>0.70</td>\n",
       "      <td>0.6515</td>\n",
       "      <td>0.54</td>\n",
       "      <td>0.1642</td>\n",
       "      <td>33</td>\n",
       "      <td>318</td>\n",
       "      <td>351</td>\n",
       "    </tr>\n",
       "    <tr>\n",
       "      <th>11502</th>\n",
       "      <td>11503</td>\n",
       "      <td>2012-04-29</td>\n",
       "      <td>2</td>\n",
       "      <td>4</td>\n",
       "      <td>11</td>\n",
       "      <td>0</td>\n",
       "      <td>0</td>\n",
       "      <td>0</td>\n",
       "      <td>1</td>\n",
       "      <td>0.46</td>\n",
       "      <td>0.4545</td>\n",
       "      <td>0.51</td>\n",
       "      <td>0.0000</td>\n",
       "      <td>128</td>\n",
       "      <td>283</td>\n",
       "      <td>411</td>\n",
       "    </tr>\n",
       "    <tr>\n",
       "      <th>13018</th>\n",
       "      <td>13019</td>\n",
       "      <td>2012-07-01</td>\n",
       "      <td>3</td>\n",
       "      <td>7</td>\n",
       "      <td>15</td>\n",
       "      <td>0</td>\n",
       "      <td>0</td>\n",
       "      <td>0</td>\n",
       "      <td>1</td>\n",
       "      <td>0.90</td>\n",
       "      <td>0.8182</td>\n",
       "      <td>0.37</td>\n",
       "      <td>0.2836</td>\n",
       "      <td>101</td>\n",
       "      <td>244</td>\n",
       "      <td>345</td>\n",
       "    </tr>\n",
       "    <tr>\n",
       "      <th>117</th>\n",
       "      <td>118</td>\n",
       "      <td>2011-01-06</td>\n",
       "      <td>1</td>\n",
       "      <td>1</td>\n",
       "      <td>2</td>\n",
       "      <td>0</td>\n",
       "      <td>4</td>\n",
       "      <td>1</td>\n",
       "      <td>1</td>\n",
       "      <td>0.16</td>\n",
       "      <td>0.2273</td>\n",
       "      <td>0.64</td>\n",
       "      <td>0.0000</td>\n",
       "      <td>0</td>\n",
       "      <td>2</td>\n",
       "      <td>2</td>\n",
       "    </tr>\n",
       "  </tbody>\n",
       "</table>\n",
       "</div>"
      ],
      "text/plain": [
       "       instant        date  season  month  hour  holiday  weekday  workingday  \\\n",
       "11215    11216  2012-04-17       2      4    12        0        2           1   \n",
       "12940    12941  2012-06-28       3      6     9        0        4           1   \n",
       "11502    11503  2012-04-29       2      4    11        0        0           0   \n",
       "13018    13019  2012-07-01       3      7    15        0        0           0   \n",
       "117        118  2011-01-06       1      1     2        0        4           1   \n",
       "\n",
       "       weather  temp   atemp  humidity  windspeed  casual  registered  count  \n",
       "11215        1  0.60  0.6212      0.33     0.3582      65         179    244  \n",
       "12940        1  0.70  0.6515      0.54     0.1642      33         318    351  \n",
       "11502        1  0.46  0.4545      0.51     0.0000     128         283    411  \n",
       "13018        1  0.90  0.8182      0.37     0.2836     101         244    345  \n",
       "117          1  0.16  0.2273      0.64     0.0000       0           2      2  "
      ]
     },
     "execution_count": 7,
     "metadata": {},
     "output_type": "execute_result"
    }
   ],
   "source": [
    "train.head()"
   ]
  },
  {
   "cell_type": "code",
   "execution_count": 8,
   "metadata": {
    "colab": {
     "base_uri": "https://localhost:8080/",
     "height": 313
    },
    "colab_type": "code",
    "id": "rBxpgybjCITI",
    "outputId": "a44593c6-2152-4de5-ee37-82376a4e6141"
   },
   "outputs": [
    {
     "data": {
      "text/html": [
       "<div>\n",
       "<style scoped>\n",
       "    .dataframe tbody tr th:only-of-type {\n",
       "        vertical-align: middle;\n",
       "    }\n",
       "\n",
       "    .dataframe tbody tr th {\n",
       "        vertical-align: top;\n",
       "    }\n",
       "\n",
       "    .dataframe thead th {\n",
       "        text-align: right;\n",
       "    }\n",
       "</style>\n",
       "<table border=\"1\" class=\"dataframe\">\n",
       "  <thead>\n",
       "    <tr style=\"text-align: right;\">\n",
       "      <th></th>\n",
       "      <th>4697</th>\n",
       "      <th>3004</th>\n",
       "      <th>12137</th>\n",
       "      <th>8179</th>\n",
       "      <th>10761</th>\n",
       "    </tr>\n",
       "  </thead>\n",
       "  <tbody>\n",
       "    <tr>\n",
       "      <th>instant</th>\n",
       "      <td>4698</td>\n",
       "      <td>3005</td>\n",
       "      <td>12138</td>\n",
       "      <td>8180</td>\n",
       "      <td>10762</td>\n",
       "    </tr>\n",
       "    <tr>\n",
       "      <th>date</th>\n",
       "      <td>2011-07-19</td>\n",
       "      <td>2011-05-10</td>\n",
       "      <td>2012-05-25</td>\n",
       "      <td>2011-12-12</td>\n",
       "      <td>2012-03-29</td>\n",
       "    </tr>\n",
       "    <tr>\n",
       "      <th>season</th>\n",
       "      <td>3</td>\n",
       "      <td>2</td>\n",
       "      <td>2</td>\n",
       "      <td>4</td>\n",
       "      <td>2</td>\n",
       "    </tr>\n",
       "    <tr>\n",
       "      <th>month</th>\n",
       "      <td>7</td>\n",
       "      <td>5</td>\n",
       "      <td>5</td>\n",
       "      <td>12</td>\n",
       "      <td>3</td>\n",
       "    </tr>\n",
       "    <tr>\n",
       "      <th>hour</th>\n",
       "      <td>15</td>\n",
       "      <td>2</td>\n",
       "      <td>22</td>\n",
       "      <td>11</td>\n",
       "      <td>12</td>\n",
       "    </tr>\n",
       "    <tr>\n",
       "      <th>holiday</th>\n",
       "      <td>0</td>\n",
       "      <td>0</td>\n",
       "      <td>0</td>\n",
       "      <td>0</td>\n",
       "      <td>0</td>\n",
       "    </tr>\n",
       "    <tr>\n",
       "      <th>weekday</th>\n",
       "      <td>2</td>\n",
       "      <td>2</td>\n",
       "      <td>5</td>\n",
       "      <td>1</td>\n",
       "      <td>4</td>\n",
       "    </tr>\n",
       "    <tr>\n",
       "      <th>workingday</th>\n",
       "      <td>1</td>\n",
       "      <td>1</td>\n",
       "      <td>1</td>\n",
       "      <td>1</td>\n",
       "      <td>1</td>\n",
       "    </tr>\n",
       "    <tr>\n",
       "      <th>weather</th>\n",
       "      <td>1</td>\n",
       "      <td>1</td>\n",
       "      <td>1</td>\n",
       "      <td>2</td>\n",
       "      <td>1</td>\n",
       "    </tr>\n",
       "    <tr>\n",
       "      <th>temp</th>\n",
       "      <td>0.88</td>\n",
       "      <td>0.44</td>\n",
       "      <td>0.66</td>\n",
       "      <td>0.26</td>\n",
       "      <td>0.5</td>\n",
       "    </tr>\n",
       "    <tr>\n",
       "      <th>atemp</th>\n",
       "      <td>0.8182</td>\n",
       "      <td>0.4394</td>\n",
       "      <td>0.6212</td>\n",
       "      <td>0.2879</td>\n",
       "      <td>0.4848</td>\n",
       "    </tr>\n",
       "    <tr>\n",
       "      <th>humidity</th>\n",
       "      <td>0.44</td>\n",
       "      <td>0.58</td>\n",
       "      <td>0.74</td>\n",
       "      <td>0.6</td>\n",
       "      <td>0.42</td>\n",
       "    </tr>\n",
       "    <tr>\n",
       "      <th>windspeed</th>\n",
       "      <td>0.194</td>\n",
       "      <td>0.1343</td>\n",
       "      <td>0.1045</td>\n",
       "      <td>0.0896</td>\n",
       "      <td>0.4925</td>\n",
       "    </tr>\n",
       "    <tr>\n",
       "      <th>casual</th>\n",
       "      <td>48</td>\n",
       "      <td>1</td>\n",
       "      <td>65</td>\n",
       "      <td>15</td>\n",
       "      <td>64</td>\n",
       "    </tr>\n",
       "    <tr>\n",
       "      <th>registered</th>\n",
       "      <td>110</td>\n",
       "      <td>4</td>\n",
       "      <td>147</td>\n",
       "      <td>100</td>\n",
       "      <td>228</td>\n",
       "    </tr>\n",
       "    <tr>\n",
       "      <th>count</th>\n",
       "      <td>158</td>\n",
       "      <td>5</td>\n",
       "      <td>212</td>\n",
       "      <td>115</td>\n",
       "      <td>292</td>\n",
       "    </tr>\n",
       "  </tbody>\n",
       "</table>\n",
       "</div>"
      ],
      "text/plain": [
       "                 4697        3004        12137       8179        10761\n",
       "instant           4698        3005       12138        8180       10762\n",
       "date        2011-07-19  2011-05-10  2012-05-25  2011-12-12  2012-03-29\n",
       "season               3           2           2           4           2\n",
       "month                7           5           5          12           3\n",
       "hour                15           2          22          11          12\n",
       "holiday              0           0           0           0           0\n",
       "weekday              2           2           5           1           4\n",
       "workingday           1           1           1           1           1\n",
       "weather              1           1           1           2           1\n",
       "temp              0.88        0.44        0.66        0.26         0.5\n",
       "atemp           0.8182      0.4394      0.6212      0.2879      0.4848\n",
       "humidity          0.44        0.58        0.74         0.6        0.42\n",
       "windspeed        0.194      0.1343      0.1045      0.0896      0.4925\n",
       "casual              48           1          65          15          64\n",
       "registered         110           4         147         100         228\n",
       "count              158           5         212         115         292"
      ]
     },
     "execution_count": 8,
     "metadata": {},
     "output_type": "execute_result"
    }
   ],
   "source": [
    "test.head().T"
   ]
  },
  {
   "cell_type": "markdown",
   "metadata": {
    "colab_type": "text",
    "id": "POU873Cu639K"
   },
   "source": [
    "## Simple Mean (mean of count)"
   ]
  },
  {
   "cell_type": "markdown",
   "metadata": {},
   "source": [
    "Task 2-\n",
    "\n",
    "- Calculate the mean of target variable"
   ]
  },
  {
   "cell_type": "code",
   "execution_count": 9,
   "metadata": {},
   "outputs": [],
   "source": [
    "# calculate mean of column\n",
    "test['simple_mean'] = train['count'].mean()"
   ]
  },
  {
   "cell_type": "code",
   "execution_count": 10,
   "metadata": {},
   "outputs": [
    {
     "data": {
      "text/html": [
       "<div>\n",
       "<style scoped>\n",
       "    .dataframe tbody tr th:only-of-type {\n",
       "        vertical-align: middle;\n",
       "    }\n",
       "\n",
       "    .dataframe tbody tr th {\n",
       "        vertical-align: top;\n",
       "    }\n",
       "\n",
       "    .dataframe thead th {\n",
       "        text-align: right;\n",
       "    }\n",
       "</style>\n",
       "<table border=\"1\" class=\"dataframe\">\n",
       "  <thead>\n",
       "    <tr style=\"text-align: right;\">\n",
       "      <th></th>\n",
       "      <th>instant</th>\n",
       "      <th>date</th>\n",
       "      <th>season</th>\n",
       "      <th>month</th>\n",
       "      <th>hour</th>\n",
       "      <th>holiday</th>\n",
       "      <th>weekday</th>\n",
       "      <th>workingday</th>\n",
       "      <th>weather</th>\n",
       "      <th>temp</th>\n",
       "      <th>atemp</th>\n",
       "      <th>humidity</th>\n",
       "      <th>windspeed</th>\n",
       "      <th>casual</th>\n",
       "      <th>registered</th>\n",
       "      <th>count</th>\n",
       "      <th>simple_mean</th>\n",
       "    </tr>\n",
       "  </thead>\n",
       "  <tbody>\n",
       "    <tr>\n",
       "      <th>4697</th>\n",
       "      <td>4698</td>\n",
       "      <td>2011-07-19</td>\n",
       "      <td>3</td>\n",
       "      <td>7</td>\n",
       "      <td>15</td>\n",
       "      <td>0</td>\n",
       "      <td>2</td>\n",
       "      <td>1</td>\n",
       "      <td>1</td>\n",
       "      <td>0.88</td>\n",
       "      <td>0.8182</td>\n",
       "      <td>0.44</td>\n",
       "      <td>0.1940</td>\n",
       "      <td>48</td>\n",
       "      <td>110</td>\n",
       "      <td>158</td>\n",
       "      <td>189.342285</td>\n",
       "    </tr>\n",
       "    <tr>\n",
       "      <th>3004</th>\n",
       "      <td>3005</td>\n",
       "      <td>2011-05-10</td>\n",
       "      <td>2</td>\n",
       "      <td>5</td>\n",
       "      <td>2</td>\n",
       "      <td>0</td>\n",
       "      <td>2</td>\n",
       "      <td>1</td>\n",
       "      <td>1</td>\n",
       "      <td>0.44</td>\n",
       "      <td>0.4394</td>\n",
       "      <td>0.58</td>\n",
       "      <td>0.1343</td>\n",
       "      <td>1</td>\n",
       "      <td>4</td>\n",
       "      <td>5</td>\n",
       "      <td>189.342285</td>\n",
       "    </tr>\n",
       "    <tr>\n",
       "      <th>12137</th>\n",
       "      <td>12138</td>\n",
       "      <td>2012-05-25</td>\n",
       "      <td>2</td>\n",
       "      <td>5</td>\n",
       "      <td>22</td>\n",
       "      <td>0</td>\n",
       "      <td>5</td>\n",
       "      <td>1</td>\n",
       "      <td>1</td>\n",
       "      <td>0.66</td>\n",
       "      <td>0.6212</td>\n",
       "      <td>0.74</td>\n",
       "      <td>0.1045</td>\n",
       "      <td>65</td>\n",
       "      <td>147</td>\n",
       "      <td>212</td>\n",
       "      <td>189.342285</td>\n",
       "    </tr>\n",
       "    <tr>\n",
       "      <th>8179</th>\n",
       "      <td>8180</td>\n",
       "      <td>2011-12-12</td>\n",
       "      <td>4</td>\n",
       "      <td>12</td>\n",
       "      <td>11</td>\n",
       "      <td>0</td>\n",
       "      <td>1</td>\n",
       "      <td>1</td>\n",
       "      <td>2</td>\n",
       "      <td>0.26</td>\n",
       "      <td>0.2879</td>\n",
       "      <td>0.60</td>\n",
       "      <td>0.0896</td>\n",
       "      <td>15</td>\n",
       "      <td>100</td>\n",
       "      <td>115</td>\n",
       "      <td>189.342285</td>\n",
       "    </tr>\n",
       "    <tr>\n",
       "      <th>10761</th>\n",
       "      <td>10762</td>\n",
       "      <td>2012-03-29</td>\n",
       "      <td>2</td>\n",
       "      <td>3</td>\n",
       "      <td>12</td>\n",
       "      <td>0</td>\n",
       "      <td>4</td>\n",
       "      <td>1</td>\n",
       "      <td>1</td>\n",
       "      <td>0.50</td>\n",
       "      <td>0.4848</td>\n",
       "      <td>0.42</td>\n",
       "      <td>0.4925</td>\n",
       "      <td>64</td>\n",
       "      <td>228</td>\n",
       "      <td>292</td>\n",
       "      <td>189.342285</td>\n",
       "    </tr>\n",
       "    <tr>\n",
       "      <th>...</th>\n",
       "      <td>...</td>\n",
       "      <td>...</td>\n",
       "      <td>...</td>\n",
       "      <td>...</td>\n",
       "      <td>...</td>\n",
       "      <td>...</td>\n",
       "      <td>...</td>\n",
       "      <td>...</td>\n",
       "      <td>...</td>\n",
       "      <td>...</td>\n",
       "      <td>...</td>\n",
       "      <td>...</td>\n",
       "      <td>...</td>\n",
       "      <td>...</td>\n",
       "      <td>...</td>\n",
       "      <td>...</td>\n",
       "      <td>...</td>\n",
       "    </tr>\n",
       "    <tr>\n",
       "      <th>10435</th>\n",
       "      <td>10436</td>\n",
       "      <td>2012-03-15</td>\n",
       "      <td>1</td>\n",
       "      <td>3</td>\n",
       "      <td>22</td>\n",
       "      <td>0</td>\n",
       "      <td>4</td>\n",
       "      <td>1</td>\n",
       "      <td>1</td>\n",
       "      <td>0.52</td>\n",
       "      <td>0.5000</td>\n",
       "      <td>0.68</td>\n",
       "      <td>0.1343</td>\n",
       "      <td>32</td>\n",
       "      <td>137</td>\n",
       "      <td>169</td>\n",
       "      <td>189.342285</td>\n",
       "    </tr>\n",
       "    <tr>\n",
       "      <th>57</th>\n",
       "      <td>58</td>\n",
       "      <td>2011-01-03</td>\n",
       "      <td>1</td>\n",
       "      <td>1</td>\n",
       "      <td>12</td>\n",
       "      <td>0</td>\n",
       "      <td>1</td>\n",
       "      <td>1</td>\n",
       "      <td>1</td>\n",
       "      <td>0.22</td>\n",
       "      <td>0.2121</td>\n",
       "      <td>0.35</td>\n",
       "      <td>0.2985</td>\n",
       "      <td>13</td>\n",
       "      <td>48</td>\n",
       "      <td>61</td>\n",
       "      <td>189.342285</td>\n",
       "    </tr>\n",
       "    <tr>\n",
       "      <th>578</th>\n",
       "      <td>579</td>\n",
       "      <td>2011-01-26</td>\n",
       "      <td>1</td>\n",
       "      <td>1</td>\n",
       "      <td>9</td>\n",
       "      <td>0</td>\n",
       "      <td>3</td>\n",
       "      <td>1</td>\n",
       "      <td>3</td>\n",
       "      <td>0.22</td>\n",
       "      <td>0.2121</td>\n",
       "      <td>0.87</td>\n",
       "      <td>0.2985</td>\n",
       "      <td>3</td>\n",
       "      <td>55</td>\n",
       "      <td>58</td>\n",
       "      <td>189.342285</td>\n",
       "    </tr>\n",
       "    <tr>\n",
       "      <th>5848</th>\n",
       "      <td>5849</td>\n",
       "      <td>2011-09-06</td>\n",
       "      <td>3</td>\n",
       "      <td>9</td>\n",
       "      <td>4</td>\n",
       "      <td>0</td>\n",
       "      <td>2</td>\n",
       "      <td>1</td>\n",
       "      <td>2</td>\n",
       "      <td>0.54</td>\n",
       "      <td>0.5152</td>\n",
       "      <td>0.94</td>\n",
       "      <td>0.2985</td>\n",
       "      <td>1</td>\n",
       "      <td>3</td>\n",
       "      <td>4</td>\n",
       "      <td>189.342285</td>\n",
       "    </tr>\n",
       "    <tr>\n",
       "      <th>2439</th>\n",
       "      <td>2440</td>\n",
       "      <td>2011-04-16</td>\n",
       "      <td>2</td>\n",
       "      <td>4</td>\n",
       "      <td>13</td>\n",
       "      <td>0</td>\n",
       "      <td>6</td>\n",
       "      <td>0</td>\n",
       "      <td>3</td>\n",
       "      <td>0.46</td>\n",
       "      <td>0.4545</td>\n",
       "      <td>0.94</td>\n",
       "      <td>0.5224</td>\n",
       "      <td>9</td>\n",
       "      <td>49</td>\n",
       "      <td>58</td>\n",
       "      <td>189.342285</td>\n",
       "    </tr>\n",
       "  </tbody>\n",
       "</table>\n",
       "<p>4346 rows × 17 columns</p>\n",
       "</div>"
      ],
      "text/plain": [
       "       instant        date  season  month  hour  holiday  weekday  workingday  \\\n",
       "4697      4698  2011-07-19       3      7    15        0        2           1   \n",
       "3004      3005  2011-05-10       2      5     2        0        2           1   \n",
       "12137    12138  2012-05-25       2      5    22        0        5           1   \n",
       "8179      8180  2011-12-12       4     12    11        0        1           1   \n",
       "10761    10762  2012-03-29       2      3    12        0        4           1   \n",
       "...        ...         ...     ...    ...   ...      ...      ...         ...   \n",
       "10435    10436  2012-03-15       1      3    22        0        4           1   \n",
       "57          58  2011-01-03       1      1    12        0        1           1   \n",
       "578        579  2011-01-26       1      1     9        0        3           1   \n",
       "5848      5849  2011-09-06       3      9     4        0        2           1   \n",
       "2439      2440  2011-04-16       2      4    13        0        6           0   \n",
       "\n",
       "       weather  temp   atemp  humidity  windspeed  casual  registered  count  \\\n",
       "4697         1  0.88  0.8182      0.44     0.1940      48         110    158   \n",
       "3004         1  0.44  0.4394      0.58     0.1343       1           4      5   \n",
       "12137        1  0.66  0.6212      0.74     0.1045      65         147    212   \n",
       "8179         2  0.26  0.2879      0.60     0.0896      15         100    115   \n",
       "10761        1  0.50  0.4848      0.42     0.4925      64         228    292   \n",
       "...        ...   ...     ...       ...        ...     ...         ...    ...   \n",
       "10435        1  0.52  0.5000      0.68     0.1343      32         137    169   \n",
       "57           1  0.22  0.2121      0.35     0.2985      13          48     61   \n",
       "578          3  0.22  0.2121      0.87     0.2985       3          55     58   \n",
       "5848         2  0.54  0.5152      0.94     0.2985       1           3      4   \n",
       "2439         3  0.46  0.4545      0.94     0.5224       9          49     58   \n",
       "\n",
       "       simple_mean  \n",
       "4697    189.342285  \n",
       "3004    189.342285  \n",
       "12137   189.342285  \n",
       "8179    189.342285  \n",
       "10761   189.342285  \n",
       "...            ...  \n",
       "10435   189.342285  \n",
       "57      189.342285  \n",
       "578     189.342285  \n",
       "5848    189.342285  \n",
       "2439    189.342285  \n",
       "\n",
       "[4346 rows x 17 columns]"
      ]
     },
     "execution_count": 10,
     "metadata": {},
     "output_type": "execute_result"
    }
   ],
   "source": [
    "test"
   ]
  },
  {
   "cell_type": "markdown",
   "metadata": {},
   "source": [
    "Task 3-\n",
    "\n",
    "- import mean absolute error from sklearn\n",
    "- calculate mean absolute error"
   ]
  },
  {
   "cell_type": "code",
   "execution_count": 11,
   "metadata": {},
   "outputs": [
    {
     "data": {
      "text/plain": [
       "142.0241113490485"
      ]
     },
     "execution_count": 11,
     "metadata": {},
     "output_type": "execute_result"
    }
   ],
   "source": [
    "#calculating mean absolute error\n",
    "\n",
    "from sklearn.metrics import mean_absolute_error as MAE\n",
    "simple_mean_error = MAE(test['count'], test['simple_mean'])\n",
    "simple_mean_error"
   ]
  },
  {
   "cell_type": "markdown",
   "metadata": {
    "colab_type": "text",
    "id": "wqIhsGgd66D1"
   },
   "source": [
    "## Mean count with respect to weekday"
   ]
  },
  {
   "cell_type": "markdown",
   "metadata": {},
   "source": [
    "Task 4 -\n",
    "- Check average count for different weekdays\n",
    "- Make predictions using average wrt weekday"
   ]
  },
  {
   "cell_type": "code",
   "execution_count": 17,
   "metadata": {},
   "outputs": [
    {
     "data": {
      "text/plain": [
       "array([2, 4, 0, 5, 3, 6, 1], dtype=int64)"
      ]
     },
     "execution_count": 17,
     "metadata": {},
     "output_type": "execute_result"
    }
   ],
   "source": [
    "train.weekday.unique()"
   ]
  },
  {
   "cell_type": "code",
   "execution_count": 32,
   "metadata": {},
   "outputs": [
    {
     "data": {
      "text/html": [
       "<div>\n",
       "<style scoped>\n",
       "    .dataframe tbody tr th:only-of-type {\n",
       "        vertical-align: middle;\n",
       "    }\n",
       "\n",
       "    .dataframe tbody tr th {\n",
       "        vertical-align: top;\n",
       "    }\n",
       "\n",
       "    .dataframe thead th {\n",
       "        text-align: right;\n",
       "    }\n",
       "</style>\n",
       "<table border=\"1\" class=\"dataframe\">\n",
       "  <thead>\n",
       "    <tr style=\"text-align: right;\">\n",
       "      <th></th>\n",
       "      <th>count</th>\n",
       "    </tr>\n",
       "    <tr>\n",
       "      <th>weekday</th>\n",
       "      <th></th>\n",
       "    </tr>\n",
       "  </thead>\n",
       "  <tbody>\n",
       "    <tr>\n",
       "      <th>0</th>\n",
       "      <td>174.494295</td>\n",
       "    </tr>\n",
       "    <tr>\n",
       "      <th>1</th>\n",
       "      <td>186.847598</td>\n",
       "    </tr>\n",
       "    <tr>\n",
       "      <th>2</th>\n",
       "      <td>189.835757</td>\n",
       "    </tr>\n",
       "    <tr>\n",
       "      <th>3</th>\n",
       "      <td>191.622293</td>\n",
       "    </tr>\n",
       "    <tr>\n",
       "      <th>4</th>\n",
       "      <td>194.846818</td>\n",
       "    </tr>\n",
       "    <tr>\n",
       "      <th>5</th>\n",
       "      <td>199.472747</td>\n",
       "    </tr>\n",
       "    <tr>\n",
       "      <th>6</th>\n",
       "      <td>188.762657</td>\n",
       "    </tr>\n",
       "  </tbody>\n",
       "</table>\n",
       "</div>"
      ],
      "text/plain": [
       "              count\n",
       "weekday            \n",
       "0        174.494295\n",
       "1        186.847598\n",
       "2        189.835757\n",
       "3        191.622293\n",
       "4        194.846818\n",
       "5        199.472747\n",
       "6        188.762657"
      ]
     },
     "execution_count": 32,
     "metadata": {},
     "output_type": "execute_result"
    }
   ],
   "source": [
    "# calculating mean count based on day of week \n",
    "# Hint: use  pivot table\n",
    "\n",
    "weekday_mean = pd.pivot_table(train, values='count', index = ['weekday'],\n",
    "                              aggfunc=np.mean)\n",
    "weekday_mean"
   ]
  },
  {
   "cell_type": "code",
   "execution_count": 38,
   "metadata": {},
   "outputs": [],
   "source": [
    "# initializing new column to zero\n",
    "test['weekday_mean'] = 0\n",
    "\n",
    "# For every unique entry in weekday\n",
    "for day in train['weekday'].unique():\n",
    "    \n",
    "  # Assign the mean value corresponding to unique entry\n",
    "    test['weekday_mean'][test['weekday'] == day] = train['count'][train['weekday'] == day].mean()"
   ]
  },
  {
   "cell_type": "code",
   "execution_count": 41,
   "metadata": {
    "colab": {
     "base_uri": "https://localhost:8080/",
     "height": 34
    },
    "colab_type": "code",
    "id": "kDbHGHsr9pbD",
    "outputId": "58298fd4-d3ec-4aac-ecc2-a0dca7cf2bec"
   },
   "outputs": [
    {
     "data": {
      "text/plain": [
       "142.12704251800122"
      ]
     },
     "execution_count": 41,
     "metadata": {},
     "output_type": "execute_result"
    }
   ],
   "source": [
    "#calculating mean absolute error\n",
    "weekday_mean_error = MAE(test['count'] , test['weekday_mean'] )\n",
    "weekday_mean_error"
   ]
  },
  {
   "cell_type": "markdown",
   "metadata": {
    "colab_type": "text",
    "id": "KyiP6zx7QVVX"
   },
   "source": [
    "## Mean Count with respect to Month"
   ]
  },
  {
   "cell_type": "markdown",
   "metadata": {},
   "source": [
    "Task 5-\n",
    "\n",
    "- Print month-wise average count using pivot table\n",
    "- Use month-wise average count as predictions\n",
    "- Calculate the Error"
   ]
  },
  {
   "cell_type": "code",
   "execution_count": 46,
   "metadata": {},
   "outputs": [
    {
     "data": {
      "text/html": [
       "<div>\n",
       "<style scoped>\n",
       "    .dataframe tbody tr th:only-of-type {\n",
       "        vertical-align: middle;\n",
       "    }\n",
       "\n",
       "    .dataframe tbody tr th {\n",
       "        vertical-align: top;\n",
       "    }\n",
       "\n",
       "    .dataframe thead th {\n",
       "        text-align: right;\n",
       "    }\n",
       "</style>\n",
       "<table border=\"1\" class=\"dataframe\">\n",
       "  <thead>\n",
       "    <tr style=\"text-align: right;\">\n",
       "      <th></th>\n",
       "      <th>count</th>\n",
       "    </tr>\n",
       "    <tr>\n",
       "      <th>month</th>\n",
       "      <th></th>\n",
       "    </tr>\n",
       "  </thead>\n",
       "  <tbody>\n",
       "    <tr>\n",
       "      <th>1</th>\n",
       "      <td>96.757660</td>\n",
       "    </tr>\n",
       "    <tr>\n",
       "      <th>2</th>\n",
       "      <td>113.195939</td>\n",
       "    </tr>\n",
       "    <tr>\n",
       "      <th>3</th>\n",
       "      <td>150.336331</td>\n",
       "    </tr>\n",
       "    <tr>\n",
       "      <th>4</th>\n",
       "      <td>184.640216</td>\n",
       "    </tr>\n",
       "    <tr>\n",
       "      <th>5</th>\n",
       "      <td>220.746903</td>\n",
       "    </tr>\n",
       "    <tr>\n",
       "      <th>6</th>\n",
       "      <td>244.203892</td>\n",
       "    </tr>\n",
       "    <tr>\n",
       "      <th>7</th>\n",
       "      <td>227.442202</td>\n",
       "    </tr>\n",
       "    <tr>\n",
       "      <th>8</th>\n",
       "      <td>239.842767</td>\n",
       "    </tr>\n",
       "    <tr>\n",
       "      <th>9</th>\n",
       "      <td>241.808999</td>\n",
       "    </tr>\n",
       "    <tr>\n",
       "      <th>10</th>\n",
       "      <td>225.172669</td>\n",
       "    </tr>\n",
       "    <tr>\n",
       "      <th>11</th>\n",
       "      <td>176.780888</td>\n",
       "    </tr>\n",
       "    <tr>\n",
       "      <th>12</th>\n",
       "      <td>143.290265</td>\n",
       "    </tr>\n",
       "  </tbody>\n",
       "</table>\n",
       "</div>"
      ],
      "text/plain": [
       "            count\n",
       "month            \n",
       "1       96.757660\n",
       "2      113.195939\n",
       "3      150.336331\n",
       "4      184.640216\n",
       "5      220.746903\n",
       "6      244.203892\n",
       "7      227.442202\n",
       "8      239.842767\n",
       "9      241.808999\n",
       "10     225.172669\n",
       "11     176.780888\n",
       "12     143.290265"
      ]
     },
     "execution_count": 46,
     "metadata": {},
     "output_type": "execute_result"
    }
   ],
   "source": [
    "# calculating mean count based on month\n",
    "# use pivot table\n",
    "month_wise_count = pd.pivot_table(train,values=\"count\",index=\"month\",aggfunc=np.mean)\n",
    "month_wise_count"
   ]
  },
  {
   "cell_type": "code",
   "execution_count": 42,
   "metadata": {},
   "outputs": [],
   "source": [
    "# initializing new column to zero\n",
    "test['month_wise_mean'] = 0\n",
    "\n",
    "# For every unique entry in month variable\n",
    "for i in train[\"month\"].unique():\n",
    "    \n",
    "  # Assign the mean value corresponding to unique entry\n",
    "    test['month_wise_mean'][test['month'] == i] = train[\"count\"][train[\"month\"]==i].mean()"
   ]
  },
  {
   "cell_type": "code",
   "execution_count": 43,
   "metadata": {},
   "outputs": [
    {
     "data": {
      "text/plain": [
       "134.42417095178655"
      ]
     },
     "execution_count": 43,
     "metadata": {},
     "output_type": "execute_result"
    }
   ],
   "source": [
    "#calculating mean absolute error\n",
    "month_wise_mean_error = MAE(test[\"month_wise_mean\"] , test[\"count\"])\n",
    "month_wise_mean_error"
   ]
  },
  {
   "cell_type": "markdown",
   "metadata": {
    "colab_type": "text",
    "id": "cZwBTzAvKUOt"
   },
   "source": [
    "## Mean Count with respect to both Month workingday"
   ]
  },
  {
   "cell_type": "code",
   "execution_count": null,
   "metadata": {
    "colab": {
     "base_uri": "https://localhost:8080/",
     "height": 394
    },
    "colab_type": "code",
    "id": "Q1uEuSr2oEjn",
    "outputId": "e1c35d74-1baa-4257-b38a-2f0979f5abcb"
   },
   "outputs": [],
   "source": [
    "combo = pd.pivot_table(train, values = 'count', index = ['month','workingday'], aggfunc = np.mean)\n",
    "combo"
   ]
  },
  {
   "cell_type": "markdown",
   "metadata": {},
   "source": [
    "Task 6-\n",
    "- Predict average count based on month and workingday variables"
   ]
  },
  {
   "cell_type": "code",
   "execution_count": 63,
   "metadata": {},
   "outputs": [],
   "source": [
    "# Initiating new empty column\n",
    "test['combo_mean'] = 0\n",
    "\n",
    "\n",
    "# For every Unique Value in month\n",
    "for i in train[\"month\"].unique():\n",
    "  # For every Unique Value in workingdaya\n",
    "    for j in train[\"workingday\"].unique():\n",
    "        \n",
    "    # Calculate and Assign mean to new column, corresponding to both unique values simultaneously\n",
    "        test['combo_mean'][(test['month'] == i) & (test['workingday']==j)] = train[\"count\"][(train['month'] == i) & (train['workingday']==j)].mean()"
   ]
  },
  {
   "cell_type": "code",
   "execution_count": 64,
   "metadata": {
    "colab": {
     "base_uri": "https://localhost:8080/",
     "height": 34
    },
    "colab_type": "code",
    "id": "PF5mzqJsKUxW",
    "outputId": "985e6616-8791-4cf2-fba0-0e932fc00047"
   },
   "outputs": [
    {
     "data": {
      "text/plain": [
       "134.09622679979694"
      ]
     },
     "execution_count": 64,
     "metadata": {},
     "output_type": "execute_result"
    }
   ],
   "source": [
    "#calculating mean absolute error\n",
    "combo_mean_error = MAE(test['count'] , test['combo_mean'] )\n",
    "combo_mean_error"
   ]
  }
 ],
 "metadata": {
  "colab": {
   "collapsed_sections": [],
   "name": "Reg Bench",
   "provenance": [],
   "toc_visible": true,
   "version": "0.3.2"
  },
  "kernelspec": {
   "display_name": "Python 3 (ipykernel)",
   "language": "python",
   "name": "python3"
  },
  "language_info": {
   "codemirror_mode": {
    "name": "ipython",
    "version": 3
   },
   "file_extension": ".py",
   "mimetype": "text/x-python",
   "name": "python",
   "nbconvert_exporter": "python",
   "pygments_lexer": "ipython3",
   "version": "3.9.7"
  }
 },
 "nbformat": 4,
 "nbformat_minor": 1
}

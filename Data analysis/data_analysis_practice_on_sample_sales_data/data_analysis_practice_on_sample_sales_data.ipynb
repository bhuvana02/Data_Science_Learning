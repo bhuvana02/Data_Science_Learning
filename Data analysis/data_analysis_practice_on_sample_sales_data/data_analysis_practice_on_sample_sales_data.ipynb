{
 "cells": [
  {
   "cell_type": "code",
   "execution_count": 1,
   "id": "655e402c",
   "metadata": {},
   "outputs": [],
   "source": [
    "#import required libraries\n",
    "import pandas as pd\n",
    "import numpy as np\n",
    "from datetime import datetime"
   ]
  },
  {
   "cell_type": "code",
   "execution_count": 2,
   "id": "fd24a33a",
   "metadata": {},
   "outputs": [],
   "source": [
    "# set custom date parser\n",
    "custom_date_parser = lambda x: datetime.strptime(x, \"%d/%m/%y\")\n",
    "\n",
    "#import sales_data csv file as 'data' data frame with 'Month' column as index column and parsing dates present in 'Month' column\n",
    "data=pd.read_csv(\"sales_data.csv\",parse_dates=['Month'],date_parser=custom_date_parser,index_col='Month')"
   ]
  },
  {
   "cell_type": "code",
   "execution_count": 3,
   "id": "9ac15c1f",
   "metadata": {},
   "outputs": [
    {
     "data": {
      "text/html": [
       "<div>\n",
       "<style scoped>\n",
       "    .dataframe tbody tr th:only-of-type {\n",
       "        vertical-align: middle;\n",
       "    }\n",
       "\n",
       "    .dataframe tbody tr th {\n",
       "        vertical-align: top;\n",
       "    }\n",
       "\n",
       "    .dataframe thead th {\n",
       "        text-align: right;\n",
       "    }\n",
       "</style>\n",
       "<table border=\"1\" class=\"dataframe\">\n",
       "  <thead>\n",
       "    <tr style=\"text-align: right;\">\n",
       "      <th></th>\n",
       "      <th>Store</th>\n",
       "      <th>Sales</th>\n",
       "    </tr>\n",
       "    <tr>\n",
       "      <th>Month</th>\n",
       "      <th></th>\n",
       "      <th></th>\n",
       "    </tr>\n",
       "  </thead>\n",
       "  <tbody>\n",
       "    <tr>\n",
       "      <th>2019-01-01</th>\n",
       "      <td>A</td>\n",
       "      <td>100</td>\n",
       "    </tr>\n",
       "    <tr>\n",
       "      <th>2019-02-01</th>\n",
       "      <td>A</td>\n",
       "      <td>300</td>\n",
       "    </tr>\n",
       "    <tr>\n",
       "      <th>2019-03-01</th>\n",
       "      <td>A</td>\n",
       "      <td>500</td>\n",
       "    </tr>\n",
       "    <tr>\n",
       "      <th>2019-01-01</th>\n",
       "      <td>B</td>\n",
       "      <td>50</td>\n",
       "    </tr>\n",
       "    <tr>\n",
       "      <th>2019-02-01</th>\n",
       "      <td>B</td>\n",
       "      <td>300</td>\n",
       "    </tr>\n",
       "  </tbody>\n",
       "</table>\n",
       "</div>"
      ],
      "text/plain": [
       "           Store  Sales\n",
       "Month                  \n",
       "2019-01-01     A    100\n",
       "2019-02-01     A    300\n",
       "2019-03-01     A    500\n",
       "2019-01-01     B     50\n",
       "2019-02-01     B    300"
      ]
     },
     "execution_count": 3,
     "metadata": {},
     "output_type": "execute_result"
    }
   ],
   "source": [
    "#see top 5 rows\n",
    "data.head()"
   ]
  },
  {
   "cell_type": "code",
   "execution_count": 4,
   "id": "360f42ed",
   "metadata": {},
   "outputs": [
    {
     "data": {
      "text/plain": [
       "(12, 2)"
      ]
     },
     "execution_count": 4,
     "metadata": {},
     "output_type": "execute_result"
    }
   ],
   "source": [
    "#find shape of data \n",
    "data.shape"
   ]
  },
  {
   "cell_type": "code",
   "execution_count": 5,
   "id": "e3bf4303",
   "metadata": {},
   "outputs": [
    {
     "name": "stdout",
     "output_type": "stream",
     "text": [
      "<class 'pandas.core.frame.DataFrame'>\n",
      "DatetimeIndex: 12 entries, 2019-01-01 to 2019-03-01\n",
      "Data columns (total 2 columns):\n",
      " #   Column  Non-Null Count  Dtype \n",
      "---  ------  --------------  ----- \n",
      " 0   Store   12 non-null     object\n",
      " 1   Sales   12 non-null     int64 \n",
      "dtypes: int64(1), object(1)\n",
      "memory usage: 288.0+ bytes\n"
     ]
    }
   ],
   "source": [
    "# Check data types and null values\n",
    "data.info()"
   ]
  },
  {
   "cell_type": "markdown",
   "id": "13c91b6a",
   "metadata": {},
   "source": [
    "## Question 1)Write a Code to extract the maximum sales in \n",
    "## each month along with the store which had maximum sales.\n",
    "## In case of a tie in a given, retain all stores with maximum sales"
   ]
  },
  {
   "cell_type": "code",
   "execution_count": 6,
   "id": "c17cf6db",
   "metadata": {},
   "outputs": [
    {
     "name": "stdout",
     "output_type": "stream",
     "text": [
      "            Max_Sales Store_max\n",
      "Month                          \n",
      "2019-01-01        200         C\n",
      "2019-02-01        300         A\n",
      "2019-02-01        300         B\n",
      "2019-03-01        500         A\n"
     ]
    }
   ],
   "source": [
    "# Create data2 data frame by grouping month and finding sales max value of each 'Month' group of 'data'\n",
    "data2=pd.DataFrame(data.groupby(data.index)['Sales'].max())\n",
    "\n",
    "# Merge 'data' and 'data2' on 'sales' and 'Month' coulmns then sort them by 'Sales' values to create data frame 'Max_sales_data' \n",
    "Max_sales_data = pd.merge(data2,data, on=['Sales','Month']).sort_values(\"Sales\")\n",
    "# rename columns as 'Max_Sales' and 'Store_max'\n",
    "Max_sales_data.columns=['Max_Sales','Store_max']\n",
    "\n",
    "# print dataframe Max_sales_data\n",
    "print(Max_sales_data)"
   ]
  },
  {
   "cell_type": "markdown",
   "id": "3c4625eb",
   "metadata": {},
   "source": [
    "## Question2) Using the same dataset as earlier\n",
    "\n",
    "## Print the Numbers of stores with Sales greater than 100 in each month\n"
   ]
  },
  {
   "cell_type": "code",
   "execution_count": 7,
   "id": "4284858a",
   "metadata": {},
   "outputs": [
    {
     "name": "stdout",
     "output_type": "stream",
     "text": [
      "            Sales_gt_100\n",
      "Month                   \n",
      "2019-01-01             2\n",
      "2019-02-01             3\n",
      "2019-03-01             2\n"
     ]
    }
   ],
   "source": [
    "#store data with sales value greater than 100 in df\n",
    "df=data[data['Sales']>100]\n",
    "#create StoreCount by grouping the data by 'month' index column with their count of store (in each group)  \n",
    "StoreCount=pd.DataFrame(df.groupby(df.index)['Store'].count())\n",
    "#rename the 'Store' coulmn as 'Sales_gt_100'\n",
    "StoreCount.columns=['Sales_gt_100']\n",
    "\n",
    "#print dataframe 'StoreCount'\n",
    "print(StoreCount)"
   ]
  },
  {
   "cell_type": "markdown",
   "id": "4fb9c7b1",
   "metadata": {},
   "source": [
    "## Question3) In the Overall Data bucket sales into three buckets(irrespective of month)\n",
    "\n",
    "## and summarize"
   ]
  },
  {
   "cell_type": "code",
   "execution_count": 8,
   "id": "7d0d859f",
   "metadata": {},
   "outputs": [
    {
     "name": "stdout",
     "output_type": "stream",
     "text": [
      "              Count_Stores\n",
      "Sales_bucket              \n",
      "A.0-150                  6\n",
      "B.151-299                3\n",
      "C.ge 300                 3\n"
     ]
    }
   ],
   "source": [
    "# copy 'data' in df 'dataframe'\n",
    "df=data.copy()\n",
    "# create a coulmn 'Sales_bucket by giving the labels based on the 'Sales' value of that row using 'cut' function\n",
    "df['Sales_bucket']=pd.cut(df['Sales'],bins=[0,151,299,np.inf],labels=['A.0-150','B.151-299','C.ge 300'])\n",
    "\n",
    "# Group by 'Sales_bucket' and store 'Store' count of each group in 'Sales_bucket'\n",
    "Sales_bucket=pd.DataFrame(df.groupby('Sales_bucket')['Store'].count())\n",
    "#rename the 'Store' coulmn as 'Count_Stores'\n",
    "Sales_bucket.columns=['Count_Stores']\n",
    "\n",
    "#print 'Sales_bucket' dataframe\n",
    "print(Sales_bucket)"
   ]
  },
  {
   "cell_type": "markdown",
   "id": "dece3551",
   "metadata": {},
   "source": [
    "## For each store comment whether sales are monotonically increasing month on month for each store\n",
    "\n",
    "## Monotonically increasing is defined as\n",
    "## Sales(01/03/19)> Sales(01/02/19)>Sales(01/01/19)"
   ]
  },
  {
   "cell_type": "code",
   "execution_count": 9,
   "id": "c2716133",
   "metadata": {},
   "outputs": [
    {
     "name": "stdout",
     "output_type": "stream",
     "text": [
      "       Mono_flag\n",
      "Store           \n",
      "A              1\n",
      "B              0\n",
      "C              0\n",
      "D              0\n"
     ]
    }
   ],
   "source": [
    "#group by store and check whether the sales in that group monotonic_increasing using 'is_monotonic_increasing'\n",
    "df=pd.DataFrame(data.groupby('Store')['Sales'].apply(lambda x: x.is_monotonic_increasing))\n",
    "#rename the column as 'Mono_flag'\n",
    "df.columns=['Mono_flag']\n",
    "\n",
    "#convert the boolean 'True','False' to 0,1 integers.\n",
    "df['Mono_flag']=df['Mono_flag'].astype(int)\n",
    "\n",
    "# print df dataframe\n",
    "print(df)"
   ]
  }
 ],
 "metadata": {
  "kernelspec": {
   "display_name": "Python 3 (ipykernel)",
   "language": "python",
   "name": "python3"
  },
  "language_info": {
   "codemirror_mode": {
    "name": "ipython",
    "version": 3
   },
   "file_extension": ".py",
   "mimetype": "text/x-python",
   "name": "python",
   "nbconvert_exporter": "python",
   "pygments_lexer": "ipython3",
   "version": "3.9.7"
  }
 },
 "nbformat": 4,
 "nbformat_minor": 5
}

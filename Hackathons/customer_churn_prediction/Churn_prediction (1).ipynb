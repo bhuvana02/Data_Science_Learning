{
 "cells": [
  {
   "cell_type": "markdown",
   "id": "0087fa92",
   "metadata": {},
   "source": [
    "\n",
    "Variable\n",
    "\n",
    "Description\n",
    "\n",
    "ID                                   : Unique Identifier of a row\n",
    "\n",
    "Age                                  : Age of the customer\n",
    "\n",
    "Gender                               : Gender of the customer (Male and Female)\n",
    "\n",
    "Income                               : Yearly income of the customer\n",
    "\n",
    "Balance                              : Average quarterly balance of the customer\n",
    "\n",
    "Vintage                              : No. of years the customer is associated with bank\n",
    "\n",
    "Transaction_Status                   : whether the customer has done any transaction in the past 3 months or not\n",
    "\n",
    "Product_Holdings                     : No. of product holdings with the bank\n",
    "\n",
    "Credit_Card                          : Whether the customer has a credit card or not\n",
    "\n",
    "Credit_Category                      : Category of a customer based on the credit score\n",
    "\n",
    "Is_Churn                             : Whether the customer will churn in next 6 months or not\n",
    "\n"
   ]
  },
  {
   "cell_type": "code",
   "execution_count": 86,
   "id": "4939bcc6",
   "metadata": {},
   "outputs": [],
   "source": [
    "import pandas as pd\n",
    "import numpy as np\n",
    "import matplotlib.pyplot as plt\n",
    "import seaborn as sns\n",
    "%matplotlib inline\n",
    "from scipy import stats\n",
    "\n"
   ]
  },
  {
   "cell_type": "code",
   "execution_count": 87,
   "id": "adbf7378",
   "metadata": {},
   "outputs": [],
   "source": [
    "data=pd.read_csv(\"train_PDjVQMB.csv\")"
   ]
  },
  {
   "cell_type": "code",
   "execution_count": 88,
   "id": "28b81ea8",
   "metadata": {},
   "outputs": [
    {
     "data": {
      "text/html": [
       "<div>\n",
       "<style scoped>\n",
       "    .dataframe tbody tr th:only-of-type {\n",
       "        vertical-align: middle;\n",
       "    }\n",
       "\n",
       "    .dataframe tbody tr th {\n",
       "        vertical-align: top;\n",
       "    }\n",
       "\n",
       "    .dataframe thead th {\n",
       "        text-align: right;\n",
       "    }\n",
       "</style>\n",
       "<table border=\"1\" class=\"dataframe\">\n",
       "  <thead>\n",
       "    <tr style=\"text-align: right;\">\n",
       "      <th></th>\n",
       "      <th>ID</th>\n",
       "      <th>Age</th>\n",
       "      <th>Gender</th>\n",
       "      <th>Income</th>\n",
       "      <th>Balance</th>\n",
       "      <th>Vintage</th>\n",
       "      <th>Transaction_Status</th>\n",
       "      <th>Product_Holdings</th>\n",
       "      <th>Credit_Card</th>\n",
       "      <th>Credit_Category</th>\n",
       "      <th>Is_Churn</th>\n",
       "    </tr>\n",
       "  </thead>\n",
       "  <tbody>\n",
       "    <tr>\n",
       "      <th>0</th>\n",
       "      <td>84e2fcc9</td>\n",
       "      <td>36</td>\n",
       "      <td>Female</td>\n",
       "      <td>5L - 10L</td>\n",
       "      <td>563266.44</td>\n",
       "      <td>4</td>\n",
       "      <td>0</td>\n",
       "      <td>1</td>\n",
       "      <td>0</td>\n",
       "      <td>Average</td>\n",
       "      <td>1</td>\n",
       "    </tr>\n",
       "    <tr>\n",
       "      <th>1</th>\n",
       "      <td>57fea15e</td>\n",
       "      <td>53</td>\n",
       "      <td>Female</td>\n",
       "      <td>Less than 5L</td>\n",
       "      <td>875572.11</td>\n",
       "      <td>2</td>\n",
       "      <td>1</td>\n",
       "      <td>1</td>\n",
       "      <td>1</td>\n",
       "      <td>Poor</td>\n",
       "      <td>0</td>\n",
       "    </tr>\n",
       "    <tr>\n",
       "      <th>2</th>\n",
       "      <td>8df34ef3</td>\n",
       "      <td>35</td>\n",
       "      <td>Female</td>\n",
       "      <td>More than 15L</td>\n",
       "      <td>701607.06</td>\n",
       "      <td>2</td>\n",
       "      <td>1</td>\n",
       "      <td>2</td>\n",
       "      <td>0</td>\n",
       "      <td>Poor</td>\n",
       "      <td>0</td>\n",
       "    </tr>\n",
       "    <tr>\n",
       "      <th>3</th>\n",
       "      <td>c5c0788b</td>\n",
       "      <td>43</td>\n",
       "      <td>Female</td>\n",
       "      <td>More than 15L</td>\n",
       "      <td>1393922.16</td>\n",
       "      <td>0</td>\n",
       "      <td>1</td>\n",
       "      <td>2</td>\n",
       "      <td>1</td>\n",
       "      <td>Poor</td>\n",
       "      <td>1</td>\n",
       "    </tr>\n",
       "    <tr>\n",
       "      <th>4</th>\n",
       "      <td>951d69c4</td>\n",
       "      <td>39</td>\n",
       "      <td>Female</td>\n",
       "      <td>More than 15L</td>\n",
       "      <td>893146.23</td>\n",
       "      <td>1</td>\n",
       "      <td>1</td>\n",
       "      <td>1</td>\n",
       "      <td>1</td>\n",
       "      <td>Good</td>\n",
       "      <td>1</td>\n",
       "    </tr>\n",
       "  </tbody>\n",
       "</table>\n",
       "</div>"
      ],
      "text/plain": [
       "         ID  Age  Gender         Income     Balance  Vintage  \\\n",
       "0  84e2fcc9   36  Female       5L - 10L   563266.44        4   \n",
       "1  57fea15e   53  Female   Less than 5L   875572.11        2   \n",
       "2  8df34ef3   35  Female  More than 15L   701607.06        2   \n",
       "3  c5c0788b   43  Female  More than 15L  1393922.16        0   \n",
       "4  951d69c4   39  Female  More than 15L   893146.23        1   \n",
       "\n",
       "   Transaction_Status Product_Holdings  Credit_Card Credit_Category  Is_Churn  \n",
       "0                   0                1            0         Average         1  \n",
       "1                   1                1            1            Poor         0  \n",
       "2                   1                2            0            Poor         0  \n",
       "3                   1                2            1            Poor         1  \n",
       "4                   1                1            1            Good         1  "
      ]
     },
     "execution_count": 88,
     "metadata": {},
     "output_type": "execute_result"
    }
   ],
   "source": [
    "data.head()"
   ]
  },
  {
   "cell_type": "code",
   "execution_count": 89,
   "id": "c3890182",
   "metadata": {},
   "outputs": [
    {
     "name": "stdout",
     "output_type": "stream",
     "text": [
      "data shape: (6650, 11)\n",
      "....................................\n",
      "data_columns : Index(['ID', 'Age', 'Gender', 'Income', 'Balance', 'Vintage',\n",
      "       'Transaction_Status', 'Product_Holdings', 'Credit_Card',\n",
      "       'Credit_Category', 'Is_Churn'],\n",
      "      dtype='object')\n"
     ]
    }
   ],
   "source": [
    "def basic(data):\n",
    "    print(\"data shape: {}\".format(data.shape))\n",
    "    print(\"....................................\")\n",
    "    print(\"data_columns : {}\".format(data.columns))\n",
    "basic(data)"
   ]
  },
  {
   "cell_type": "code",
   "execution_count": 90,
   "id": "65188451",
   "metadata": {},
   "outputs": [
    {
     "data": {
      "text/html": [
       "<div>\n",
       "<style scoped>\n",
       "    .dataframe tbody tr th:only-of-type {\n",
       "        vertical-align: middle;\n",
       "    }\n",
       "\n",
       "    .dataframe tbody tr th {\n",
       "        vertical-align: top;\n",
       "    }\n",
       "\n",
       "    .dataframe thead th {\n",
       "        text-align: right;\n",
       "    }\n",
       "</style>\n",
       "<table border=\"1\" class=\"dataframe\">\n",
       "  <thead>\n",
       "    <tr style=\"text-align: right;\">\n",
       "      <th></th>\n",
       "      <th>dtype</th>\n",
       "      <th>no. of unique values</th>\n",
       "      <th>no.of null values</th>\n",
       "    </tr>\n",
       "  </thead>\n",
       "  <tbody>\n",
       "    <tr>\n",
       "      <th>ID</th>\n",
       "      <td>object</td>\n",
       "      <td>6650</td>\n",
       "      <td>0</td>\n",
       "    </tr>\n",
       "    <tr>\n",
       "      <th>Age</th>\n",
       "      <td>int64</td>\n",
       "      <td>52</td>\n",
       "      <td>0</td>\n",
       "    </tr>\n",
       "    <tr>\n",
       "      <th>Gender</th>\n",
       "      <td>object</td>\n",
       "      <td>2</td>\n",
       "      <td>0</td>\n",
       "    </tr>\n",
       "    <tr>\n",
       "      <th>Income</th>\n",
       "      <td>object</td>\n",
       "      <td>4</td>\n",
       "      <td>0</td>\n",
       "    </tr>\n",
       "    <tr>\n",
       "      <th>Balance</th>\n",
       "      <td>float64</td>\n",
       "      <td>6643</td>\n",
       "      <td>0</td>\n",
       "    </tr>\n",
       "    <tr>\n",
       "      <th>Vintage</th>\n",
       "      <td>int64</td>\n",
       "      <td>6</td>\n",
       "      <td>0</td>\n",
       "    </tr>\n",
       "    <tr>\n",
       "      <th>Transaction_Status</th>\n",
       "      <td>int64</td>\n",
       "      <td>2</td>\n",
       "      <td>0</td>\n",
       "    </tr>\n",
       "    <tr>\n",
       "      <th>Product_Holdings</th>\n",
       "      <td>object</td>\n",
       "      <td>3</td>\n",
       "      <td>0</td>\n",
       "    </tr>\n",
       "    <tr>\n",
       "      <th>Credit_Card</th>\n",
       "      <td>int64</td>\n",
       "      <td>2</td>\n",
       "      <td>0</td>\n",
       "    </tr>\n",
       "    <tr>\n",
       "      <th>Credit_Category</th>\n",
       "      <td>object</td>\n",
       "      <td>3</td>\n",
       "      <td>0</td>\n",
       "    </tr>\n",
       "    <tr>\n",
       "      <th>Is_Churn</th>\n",
       "      <td>int64</td>\n",
       "      <td>2</td>\n",
       "      <td>0</td>\n",
       "    </tr>\n",
       "  </tbody>\n",
       "</table>\n",
       "</div>"
      ],
      "text/plain": [
       "                      dtype  no. of unique values  no.of null values\n",
       "ID                   object                  6650                  0\n",
       "Age                   int64                    52                  0\n",
       "Gender               object                     2                  0\n",
       "Income               object                     4                  0\n",
       "Balance             float64                  6643                  0\n",
       "Vintage               int64                     6                  0\n",
       "Transaction_Status    int64                     2                  0\n",
       "Product_Holdings     object                     3                  0\n",
       "Credit_Card           int64                     2                  0\n",
       "Credit_Category      object                     3                  0\n",
       "Is_Churn              int64                     2                  0"
      ]
     },
     "execution_count": 90,
     "metadata": {},
     "output_type": "execute_result"
    }
   ],
   "source": [
    "df=pd.DataFrame({\"dtype\" : data.dtypes ,\"no. of unique values\": data.nunique(), \"no.of null values\":data.isna().sum()})\n",
    "df"
   ]
  },
  {
   "cell_type": "code",
   "execution_count": 91,
   "id": "7d9c7577",
   "metadata": {},
   "outputs": [
    {
     "data": {
      "text/plain": [
       "0"
      ]
     },
     "execution_count": 91,
     "metadata": {},
     "output_type": "execute_result"
    }
   ],
   "source": [
    "data.duplicated().sum()"
   ]
  },
  {
   "cell_type": "code",
   "execution_count": 92,
   "id": "ec2ae36e",
   "metadata": {},
   "outputs": [],
   "source": [
    "data.drop('ID', axis=1, inplace=True)"
   ]
  },
  {
   "cell_type": "code",
   "execution_count": 93,
   "id": "82f8959e",
   "metadata": {},
   "outputs": [],
   "source": [
    "num_cols=['Age','Balance']\n",
    "cat_cols=['Gender','Transaction_Status','Income','Product_Holdings','Credit_Card','Vintage','Credit_Category','Is_Churn','credit_card_performace','high_product_holders_credit_category','old_age_transaction_status']\n",
    "cat_cols1=['Gender','Income','Product_Holdings','Credit_Category']\n",
    "cat_cols2=['Transaction_Status','Credit_Card','Vintage','Is_Churn','credit_card_performace','high_product_holders_credit_category']\n"
   ]
  },
  {
   "cell_type": "markdown",
   "id": "d96a7a5f",
   "metadata": {},
   "source": [
    "# Feature Engineering"
   ]
  },
  {
   "cell_type": "code",
   "execution_count": 94,
   "id": "638f9d23",
   "metadata": {},
   "outputs": [],
   "source": [
    "data['credit_card_performace']=0\n",
    "for i,j in enumerate(data['credit_card_performace']):\n",
    "    if (data['Credit_Card'][i]==1):\n",
    "        if data['Credit_Category'][i]=='Poor':\n",
    "            data['credit_card_performace'][i]=1\n",
    "        elif data['Credit_Category'][i]=='Good':\n",
    "            data['credit_card_performace'][i]=2\n",
    "    "
   ]
  },
  {
   "cell_type": "code",
   "execution_count": 95,
   "id": "d7c79352",
   "metadata": {},
   "outputs": [],
   "source": [
    "data['old_age_transaction_status']=0\n",
    "for i,j in enumerate(data['old_age_transaction_status']):\n",
    "    if (data['Age'][i]>60):\n",
    "        if data['Income'][i]=='5L - 10L':\n",
    "            data['old_age_transaction_status'][i]=1\n",
    "        elif data['Income'][i]=='More than 15L':\n",
    "            data['old_age_transaction_status'][i]=2\n",
    "        \n",
    "        \n",
    "        \n"
   ]
  },
  {
   "cell_type": "code",
   "execution_count": 96,
   "id": "4b314ed3",
   "metadata": {},
   "outputs": [],
   "source": [
    "data['high_product_holders_credit_category']=0\n",
    "for i,j in enumerate(data['high_product_holders_credit_category']):\n",
    "    if (data['Product_Holdings'][i]=='3+'):\n",
    "        if data['Credit_Category'][i]=='Poor':\n",
    "            data['high_product_holders_credit_category'][i]=1\n",
    "        elif data['Credit_Category'][i]=='Good':\n",
    "            data['high_product_holders_credit_category'][i]=2"
   ]
  },
  {
   "cell_type": "code",
   "execution_count": 97,
   "id": "133619b6",
   "metadata": {},
   "outputs": [
    {
     "data": {
      "text/plain": [
       "0    6537\n",
       "1      62\n",
       "2      51\n",
       "Name: old_age_transaction_status, dtype: int64"
      ]
     },
     "execution_count": 97,
     "metadata": {},
     "output_type": "execute_result"
    }
   ],
   "source": [
    "data['old_age_transaction_status'].value_counts()"
   ]
  },
  {
   "cell_type": "markdown",
   "id": "255adc31",
   "metadata": {},
   "source": [
    "# EDA"
   ]
  },
  {
   "cell_type": "code",
   "execution_count": 98,
   "id": "91b591ef",
   "metadata": {},
   "outputs": [],
   "source": [
    "for i in cat_cols:\n",
    "    data[i]=data[i].astype(\"category\")\n",
    "    "
   ]
  },
  {
   "cell_type": "code",
   "execution_count": 99,
   "id": "4c4f8145",
   "metadata": {},
   "outputs": [
    {
     "name": "stdout",
     "output_type": "stream",
     "text": [
      "<class 'pandas.core.frame.DataFrame'>\n",
      "RangeIndex: 6650 entries, 0 to 6649\n",
      "Data columns (total 13 columns):\n",
      " #   Column                                Non-Null Count  Dtype   \n",
      "---  ------                                --------------  -----   \n",
      " 0   Age                                   6650 non-null   int64   \n",
      " 1   Gender                                6650 non-null   category\n",
      " 2   Income                                6650 non-null   category\n",
      " 3   Balance                               6650 non-null   float64 \n",
      " 4   Vintage                               6650 non-null   category\n",
      " 5   Transaction_Status                    6650 non-null   category\n",
      " 6   Product_Holdings                      6650 non-null   category\n",
      " 7   Credit_Card                           6650 non-null   category\n",
      " 8   Credit_Category                       6650 non-null   category\n",
      " 9   Is_Churn                              6650 non-null   category\n",
      " 10  credit_card_performace                6650 non-null   category\n",
      " 11  old_age_transaction_status            6650 non-null   category\n",
      " 12  high_product_holders_credit_category  6650 non-null   category\n",
      "dtypes: category(11), float64(1), int64(1)\n",
      "memory usage: 177.0 KB\n"
     ]
    }
   ],
   "source": [
    "data.info()"
   ]
  },
  {
   "cell_type": "code",
   "execution_count": 100,
   "id": "350b7af3",
   "metadata": {
    "scrolled": false
   },
   "outputs": [
    {
     "name": "stdout",
     "output_type": "stream",
     "text": [
      "Gender\n",
      "Male      0.543158\n",
      "Female    0.456842\n",
      "Name: Gender, dtype: float64\n"
     ]
    },
    {
     "data": {
      "image/png": "[encoded data removed]",
      "text/plain": [
       "<Figure size 792x576 with 1 Axes>"
      ]
     },
     "metadata": {},
     "output_type": "display_data"
    },
    {
     "name": "stdout",
     "output_type": "stream",
     "text": [
      "......................................\n",
      "\n",
      "Income\n",
      "10L - 15L        0.283459\n",
      "5L - 10L         0.277744\n",
      "Less than 5L     0.236541\n",
      "More than 15L    0.202256\n",
      "Name: Income, dtype: float64\n"
     ]
    },
    {
     "data": {
      "image/png": "[encoded data removed]",
      "text/plain": [
       "<Figure size 792x576 with 1 Axes>"
      ]
     },
     "metadata": {},
     "output_type": "display_data"
    },
    {
     "name": "stdout",
     "output_type": "stream",
     "text": [
      "......................................\n",
      "\n",
      "Product_Holdings\n",
      "1     0.481203\n",
      "2     0.478496\n",
      "3+    0.040301\n",
      "Name: Product_Holdings, dtype: float64\n"
     ]
    },
    {
     "data": {
      "image/png": "[encoded data removed]",
      "text/plain": [
       "<Figure size 792x576 with 1 Axes>"
      ]
     },
     "metadata": {},
     "output_type": "display_data"
    },
    {
     "name": "stdout",
     "output_type": "stream",
     "text": [
      "......................................\n",
      "\n",
      "Credit_Category\n",
      "Poor       0.462556\n",
      "Average    0.307218\n",
      "Good       0.230226\n",
      "Name: Credit_Category, dtype: float64\n"
     ]
    },
    {
     "data": {
      "image/png": "[encoded data removed]",
      "text/plain": [
       "<Figure size 792x576 with 1 Axes>"
      ]
     },
     "metadata": {},
     "output_type": "display_data"
    },
    {
     "name": "stdout",
     "output_type": "stream",
     "text": [
      "......................................\n",
      "\n"
     ]
    }
   ],
   "source": [
    "sns.set(style=\"white\")\n",
    "for i in cat_cols1:\n",
    "    print(i)\n",
    "    print(data[i].value_counts(normalize=True))\n",
    "    total = float(len(data))\n",
    "    plt.figure(figsize=(11,8))\n",
    "    ax=sns.histplot(x=i, hue='Is_Churn',data=data)\n",
    "    plt.title(i, fontsize=20)\n",
    "    for p in ax.patches:\n",
    "        percentage = '{:.1f}%'.format(100 * p.get_height()/total)\n",
    "        x = p.get_x() + p.get_width()\n",
    "        y = p.get_height()\n",
    "        ax.annotate(percentage, (x, y),ha='center')\n",
    "    plt.show()\n",
    "    print(\"......................................\\n\")\n",
    "    "
   ]
  },
  {
   "cell_type": "code",
   "execution_count": 101,
   "id": "3ad2825f",
   "metadata": {},
   "outputs": [
    {
     "name": "stdout",
     "output_type": "stream",
     "text": [
      "No variables match your requested type.\n"
     ]
    }
   ],
   "source": [
    "who have 2 products and 3+ , churn rate is less"
   ]
  },
  {
   "cell_type": "code",
   "execution_count": 102,
   "id": "7da018be",
   "metadata": {
    "scrolled": false
   },
   "outputs": [
    {
     "name": "stdout",
     "output_type": "stream",
     "text": [
      "Transaction_Status\n",
      "1    0.515789\n",
      "0    0.484211\n",
      "Name: Transaction_Status, dtype: float64\n"
     ]
    },
    {
     "data": {
      "image/png": "[encoded data removed]",
      "text/plain": [
       "<Figure size 792x576 with 1 Axes>"
      ]
     },
     "metadata": {},
     "output_type": "display_data"
    },
    {
     "name": "stdout",
     "output_type": "stream",
     "text": [
      "......................................\n",
      "\n",
      "Credit_Card\n",
      "1    0.664361\n",
      "0    0.335639\n",
      "Name: Credit_Card, dtype: float64\n"
     ]
    },
    {
     "data": {
      "image/png": "[encoded data removed]",
      "text/plain": [
       "<Figure size 792x576 with 1 Axes>"
      ]
     },
     "metadata": {},
     "output_type": "display_data"
    },
    {
     "name": "stdout",
     "output_type": "stream",
     "text": [
      "......................................\n",
      "\n",
      "Vintage\n",
      "3    0.211278\n",
      "1    0.203609\n",
      "2    0.199699\n",
      "4    0.194887\n",
      "0    0.143759\n",
      "5    0.046767\n",
      "Name: Vintage, dtype: float64\n"
     ]
    },
    {
     "data": {
      "image/png": "[encoded data removed]",
      "text/plain": [
       "<Figure size 792x576 with 1 Axes>"
      ]
     },
     "metadata": {},
     "output_type": "display_data"
    },
    {
     "name": "stdout",
     "output_type": "stream",
     "text": [
      "......................................\n",
      "\n",
      "Is_Churn\n",
      "0    0.768872\n",
      "1    0.231128\n",
      "Name: Is_Churn, dtype: float64\n"
     ]
    },
    {
     "data": {
      "image/png": "[encoded data removed]",
      "text/plain": [
       "<Figure size 792x576 with 1 Axes>"
      ]
     },
     "metadata": {},
     "output_type": "display_data"
    },
    {
     "name": "stdout",
     "output_type": "stream",
     "text": [
      "......................................\n",
      "\n",
      "credit_card_performace\n",
      "0    0.543459\n",
      "1    0.304060\n",
      "2    0.152481\n",
      "Name: credit_card_performace, dtype: float64\n"
     ]
    },
    {
     "data": {
      "image/png": "[encoded data removed]",
      "text/plain": [
       "<Figure size 792x576 with 1 Axes>"
      ]
     },
     "metadata": {},
     "output_type": "display_data"
    },
    {
     "name": "stdout",
     "output_type": "stream",
     "text": [
      "......................................\n",
      "\n",
      "high_product_holders_credit_category\n",
      "0    0.972932\n",
      "1    0.017293\n",
      "2    0.009774\n",
      "Name: high_product_holders_credit_category, dtype: float64\n"
     ]
    },
    {
     "data": {
      "image/png": "[encoded data removed]",
      "text/plain": [
       "<Figure size 792x576 with 1 Axes>"
      ]
     },
     "metadata": {},
     "output_type": "display_data"
    },
    {
     "name": "stdout",
     "output_type": "stream",
     "text": [
      "......................................\n",
      "\n"
     ]
    }
   ],
   "source": [
    "for i in cat_cols2:\n",
    "    print(i)\n",
    "    print(data[i].value_counts(normalize=True))\n",
    "    total = float(len(data))\n",
    "    plt.figure(figsize=(11,8))\n",
    "    ax=sns.countplot(x=i, hue='Is_Churn',data=data)\n",
    "    plt.title(i, fontsize=20)\n",
    "    for p in ax.patches:\n",
    "        percentage = '{:.1f}%'.format(100 * p.get_height()/total)\n",
    "        x = p.get_x() + p.get_width()\n",
    "        y = p.get_height()\n",
    "        ax.annotate(percentage, (x, y),ha='center')\n",
    "    plt.show()\n",
    "    print(\"......................................\\n\")"
   ]
  },
  {
   "cell_type": "code",
   "execution_count": 103,
   "id": "dfeab47a",
   "metadata": {},
   "outputs": [
    {
     "data": {
      "text/plain": [
       "0    6470\n",
       "1     115\n",
       "2      65\n",
       "Name: high_product_holders_credit_category, dtype: int64"
      ]
     },
     "execution_count": 103,
     "metadata": {},
     "output_type": "execute_result"
    }
   ],
   "source": [
    "data['high_product_holders_credit_category'].value_counts()"
   ]
  },
  {
   "cell_type": "markdown",
   "id": "74ca1060",
   "metadata": {},
   "source": [
    "no transaction, churn rate high"
   ]
  },
  {
   "cell_type": "code",
   "execution_count": 104,
   "id": "a41fd794",
   "metadata": {},
   "outputs": [
    {
     "data": {
      "text/html": [
       "<div>\n",
       "<style scoped>\n",
       "    .dataframe tbody tr th:only-of-type {\n",
       "        vertical-align: middle;\n",
       "    }\n",
       "\n",
       "    .dataframe tbody tr th {\n",
       "        vertical-align: top;\n",
       "    }\n",
       "\n",
       "    .dataframe thead th {\n",
       "        text-align: right;\n",
       "    }\n",
       "</style>\n",
       "<table border=\"1\" class=\"dataframe\">\n",
       "  <thead>\n",
       "    <tr style=\"text-align: right;\">\n",
       "      <th></th>\n",
       "      <th>count</th>\n",
       "      <th>mean</th>\n",
       "      <th>std</th>\n",
       "      <th>min</th>\n",
       "      <th>25%</th>\n",
       "      <th>50%</th>\n",
       "      <th>75%</th>\n",
       "      <th>max</th>\n",
       "    </tr>\n",
       "  </thead>\n",
       "  <tbody>\n",
       "    <tr>\n",
       "      <th>Age</th>\n",
       "      <td>6650.0</td>\n",
       "      <td>41.130226</td>\n",
       "      <td>9.685747</td>\n",
       "      <td>21.0</td>\n",
       "      <td>34.0</td>\n",
       "      <td>40.0</td>\n",
       "      <td>47.0</td>\n",
       "      <td>72.0</td>\n",
       "    </tr>\n",
       "  </tbody>\n",
       "</table>\n",
       "</div>"
      ],
      "text/plain": [
       "      count       mean       std   min   25%   50%   75%   max\n",
       "Age  6650.0  41.130226  9.685747  21.0  34.0  40.0  47.0  72.0"
      ]
     },
     "execution_count": 104,
     "metadata": {},
     "output_type": "execute_result"
    }
   ],
   "source": [
    "pd.DataFrame(data['Age'].describe()).T"
   ]
  },
  {
   "cell_type": "code",
   "execution_count": 105,
   "id": "1e11836b",
   "metadata": {
    "scrolled": false
   },
   "outputs": [
    {
     "name": "stdout",
     "output_type": "stream",
     "text": [
      "          mean       std   min   25%   50%   75%   max\n",
      "Age  41.130226  9.685747  21.0  34.0  40.0  47.0  72.0\n"
     ]
    },
    {
     "data": {
      "image/png": "[encoded data removed]",
      "text/plain": [
       "<Figure size 1080x576 with 1 Axes>"
      ]
     },
     "metadata": {},
     "output_type": "display_data"
    },
    {
     "data": {
      "image/png": "[encoded data removed]",
      "text/plain": [
       "<Figure size 1080x576 with 1 Axes>"
      ]
     },
     "metadata": {},
     "output_type": "display_data"
    },
    {
     "name": "stdout",
     "output_type": "stream",
     "text": [
      ".....................................................................................................................\n",
      "\n",
      "                  mean            std   min          25%         50%  \\\n",
      "Balance  804595.354985  515754.867315  63.0  392264.2125  764938.575   \n",
      "\n",
      "                75%         max  \n",
      "Balance  1147123.71  2436615.81  \n"
     ]
    },
    {
     "data": {
      "image/png": "[encoded data removed]",
      "text/plain": [
       "<Figure size 1080x576 with 1 Axes>"
      ]
     },
     "metadata": {},
     "output_type": "display_data"
    },
    {
     "data": {
      "image/png": "[encoded data removed]",
      "text/plain": [
       "<Figure size 1080x576 with 1 Axes>"
      ]
     },
     "metadata": {},
     "output_type": "display_data"
    },
    {
     "name": "stdout",
     "output_type": "stream",
     "text": [
      ".....................................................................................................................\n",
      "\n"
     ]
    }
   ],
   "source": [
    "for i in num_cols:\n",
    "    print(pd.DataFrame(data[i].describe()).T.drop('count',axis=1))\n",
    "    plt.figure(figsize=(15,8))\n",
    "    plt.title(i, fontsize=20)\n",
    "    sns.histplot(x=i,hue='Is_Churn',data=data)\n",
    "    plt.show()\n",
    "    plt.figure(figsize=(15,8))\n",
    "    sns.boxplot(x='Is_Churn',y=i,data=data)\n",
    "    plt.show()\n",
    "    print(\".....................................................................................................................\\n\")"
   ]
  },
  {
   "cell_type": "code",
   "execution_count": 106,
   "id": "3cbb52ec",
   "metadata": {},
   "outputs": [
    {
     "data": {
      "application/vnd.jupyter.widget-view+json": {
       "model_id": "3c2c2eb73e92446aa4c5f34f62998db1",
       "version_major": 2,
       "version_minor": 0
      },
      "text/plain": [
       "                                             |          | [  0%]   00:00 -> (? left)"
      ]
     },
     "metadata": {},
     "output_type": "display_data"
    },
    {
     "name": "stdout",
     "output_type": "stream",
     "text": [
      "Report SWEETVIZ_REPORT.html was generated! NOTEBOOK/COLAB USERS: the web browser MAY not pop up, regardless, the report IS saved in your notebook/colab files.\n"
     ]
    }
   ],
   "source": [
    "import sweetviz as sv\n",
    "report = sv.analyze(data)\n",
    "report.show_html()"
   ]
  },
  {
   "cell_type": "code",
   "execution_count": 107,
   "id": "d4637ab7",
   "metadata": {},
   "outputs": [],
   "source": [
    "def plots(df, variable):\n",
    "    # function to plot a histogram and a Q-Q plot\n",
    "    # side by side, for a certain variable\n",
    "    \n",
    "    plt.figure(figsize=(15,6))\n",
    "    plt.subplot(1, 2, 1)\n",
    "    df[variable].hist()\n",
    "\n",
    "    plt.subplot(1, 2, 2)\n",
    "    stats.probplot(df[variable], dist=\"norm\", plot=plt)\n",
    "\n",
    "    plt.show()"
   ]
  },
  {
   "cell_type": "code",
   "execution_count": 108,
   "id": "affb4ec8",
   "metadata": {},
   "outputs": [
    {
     "data": {
      "image/png": "[encoded data removed]",
      "text/plain": [
       "<Figure size 1500x600 with 2 Axes>"
      ]
     },
     "metadata": {},
     "output_type": "display_data"
    },
    {
     "data": {
      "image/png": "[encoded data removed]",
      "text/plain": [
       "<Figure size 1500x600 with 2 Axes>"
      ]
     },
     "metadata": {},
     "output_type": "display_data"
    }
   ],
   "source": [
    "plots(data,'Age')\n",
    "plots(data,'Balance')"
   ]
  },
  {
   "cell_type": "markdown",
   "id": "90af54ad",
   "metadata": {},
   "source": [
    "# pre_processing"
   ]
  },
  {
   "cell_type": "code",
   "execution_count": 109,
   "id": "44503729",
   "metadata": {},
   "outputs": [],
   "source": [
    "from sklearn.model_selection import train_test_split\n",
    "from sklearn.preprocessing  import StandardScaler\n",
    "from sklearn. preprocessing import PolynomialFeatures\n",
    "from sklearn.metrics import r2_score\n",
    "import warnings\n",
    "warnings.filterwarnings(action = 'ignore')"
   ]
  },
  {
   "cell_type": "code",
   "execution_count": 110,
   "id": "8ce37fb9",
   "metadata": {},
   "outputs": [],
   "source": [
    "df=data.copy()"
   ]
  },
  {
   "cell_type": "code",
   "execution_count": 111,
   "id": "6fc02d4e",
   "metadata": {},
   "outputs": [
    {
     "data": {
      "text/plain": [
       "Index(['Age', 'Gender', 'Income', 'Balance', 'Vintage', 'Transaction_Status',\n",
       "       'Product_Holdings', 'Credit_Card', 'Credit_Category', 'Is_Churn',\n",
       "       'credit_card_performace', 'old_age_transaction_status',\n",
       "       'high_product_holders_credit_category'],\n",
       "      dtype='object')"
      ]
     },
     "execution_count": 111,
     "metadata": {},
     "output_type": "execute_result"
    }
   ],
   "source": [
    "df.columns"
   ]
  },
  {
   "cell_type": "code",
   "execution_count": 112,
   "id": "b7b9f61d",
   "metadata": {},
   "outputs": [],
   "source": [
    "x=df.drop('Is_Churn',axis=1)\n",
    "y=data['Is_Churn']"
   ]
  },
  {
   "cell_type": "code",
   "execution_count": 113,
   "id": "217b8636",
   "metadata": {},
   "outputs": [],
   "source": [
    "train_x,test_x,train_y,test_y=train_test_split(x,y,test_size=0.20,random_state=1,stratify=y)"
   ]
  },
  {
   "cell_type": "code",
   "execution_count": 114,
   "id": "dc925187",
   "metadata": {},
   "outputs": [
    {
     "data": {
      "text/plain": [
       "(0    0.768797\n",
       " 1    0.231203\n",
       " Name: Is_Churn, dtype: float64,\n",
       " 0    0.769173\n",
       " 1    0.230827\n",
       " Name: Is_Churn, dtype: float64)"
      ]
     },
     "execution_count": 114,
     "metadata": {},
     "output_type": "execute_result"
    }
   ],
   "source": [
    "train_y.value_counts(normalize=True),test_y.value_counts(normalize=True)"
   ]
  },
  {
   "cell_type": "code",
   "execution_count": 115,
   "id": "b9633ee0",
   "metadata": {},
   "outputs": [],
   "source": [
    "cat_cols=['Gender',\n",
    " 'Transaction_Status',\n",
    " 'Income',\n",
    " 'Product_Holdings',\n",
    " 'Credit_Card',\n",
    " 'Vintage',\n",
    " 'Credit_Category','credit_card_performace','high_product_holders_credit_category','old_age_transaction_status']"
   ]
  },
  {
   "cell_type": "code",
   "execution_count": 116,
   "id": "20184edc",
   "metadata": {},
   "outputs": [
    {
     "data": {
      "text/plain": [
       "Index(['Age', 'Balance', 'Gender_Male', 'Transaction_Status_1',\n",
       "       'Income_5L - 10L', 'Income_Less than 5L', 'Income_More than 15L',\n",
       "       'Product_Holdings_2', 'Product_Holdings_3+', 'Credit_Card_1',\n",
       "       'Vintage_1', 'Vintage_2', 'Vintage_3', 'Vintage_4', 'Vintage_5',\n",
       "       'Credit_Category_Good', 'Credit_Category_Poor',\n",
       "       'credit_card_performace_1', 'credit_card_performace_2',\n",
       "       'high_product_holders_credit_category_1',\n",
       "       'high_product_holders_credit_category_2',\n",
       "       'old_age_transaction_status_1', 'old_age_transaction_status_2'],\n",
       "      dtype='object')"
      ]
     },
     "execution_count": 116,
     "metadata": {},
     "output_type": "execute_result"
    }
   ],
   "source": [
    "train_x= pd.get_dummies(data=train_x, columns=cat_cols,drop_first= True)\n",
    "train_x.columns"
   ]
  },
  {
   "cell_type": "code",
   "execution_count": 117,
   "id": "9c487c7c",
   "metadata": {},
   "outputs": [
    {
     "data": {
      "text/plain": [
       "Index(['Age', 'Balance', 'Gender_Male', 'Transaction_Status_1',\n",
       "       'Income_5L - 10L', 'Income_Less than 5L', 'Income_More than 15L',\n",
       "       'Product_Holdings_2', 'Product_Holdings_3+', 'Credit_Card_1',\n",
       "       'Vintage_1', 'Vintage_2', 'Vintage_3', 'Vintage_4', 'Vintage_5',\n",
       "       'Credit_Category_Good', 'Credit_Category_Poor',\n",
       "       'credit_card_performace_1', 'credit_card_performace_2',\n",
       "       'high_product_holders_credit_category_1',\n",
       "       'high_product_holders_credit_category_2',\n",
       "       'old_age_transaction_status_1', 'old_age_transaction_status_2'],\n",
       "      dtype='object')"
      ]
     },
     "execution_count": 117,
     "metadata": {},
     "output_type": "execute_result"
    }
   ],
   "source": [
    "test_x= pd.get_dummies(data=test_x, columns=cat_cols,drop_first= True)\n",
    "test_x.columns"
   ]
  },
  {
   "cell_type": "code",
   "execution_count": 118,
   "id": "31bfa323",
   "metadata": {},
   "outputs": [],
   "source": [
    "scaler=StandardScaler()\n",
    "train_x_scaled=scaler.fit_transform(train_x)\n",
    "test_x_scaled=scaler.transform(test_x)"
   ]
  },
  {
   "cell_type": "markdown",
   "id": "3e5bc352",
   "metadata": {},
   "source": [
    "# ......................................................................................................................."
   ]
  },
  {
   "cell_type": "markdown",
   "id": "228b6aec",
   "metadata": {},
   "source": [
    "### tried attempts that failed"
   ]
  },
  {
   "cell_type": "code",
   "execution_count": 119,
   "id": "9eb9cc94",
   "metadata": {},
   "outputs": [],
   "source": [
    "from sklearn.tree import DecisionTreeClassifier"
   ]
  },
  {
   "cell_type": "code",
   "execution_count": 120,
   "id": "35287acb",
   "metadata": {},
   "outputs": [
    {
     "data": {
      "text/plain": [
       "DecisionTreeClassifier(max_depth=9, random_state=0)"
      ]
     },
     "execution_count": 120,
     "metadata": {},
     "output_type": "execute_result"
    }
   ],
   "source": [
    "clf_gini = DecisionTreeClassifier(criterion='gini', max_depth=9, random_state=0)\n",
    "\n",
    "\n",
    "# fit the model\n",
    "clf_gini.fit(train_x_scaled, train_y)"
   ]
  },
  {
   "cell_type": "code",
   "execution_count": 121,
   "id": "29d6288f",
   "metadata": {},
   "outputs": [
    {
     "data": {
      "text/plain": [
       "0.8095864661654135"
      ]
     },
     "execution_count": 121,
     "metadata": {},
     "output_type": "execute_result"
    }
   ],
   "source": [
    "clf_gini.score(train_x_scaled, train_y)"
   ]
  },
  {
   "cell_type": "code",
   "execution_count": 122,
   "id": "1f68b034",
   "metadata": {},
   "outputs": [],
   "source": [
    "y_pred_gini = clf_gini.predict(test_x_scaled)"
   ]
  },
  {
   "cell_type": "code",
   "execution_count": 123,
   "id": "b50b8a3d",
   "metadata": {},
   "outputs": [
    {
     "name": "stdout",
     "output_type": "stream",
     "text": [
      "Model accuracy score with criterion gini index: 0.7496\n"
     ]
    }
   ],
   "source": [
    "from sklearn.metrics import accuracy_score\n",
    "\n",
    "print('Model accuracy score with criterion gini index: {0:0.4f}'. format(accuracy_score(test_y, y_pred_gini)))"
   ]
  },
  {
   "cell_type": "code",
   "execution_count": 124,
   "id": "8a723d71",
   "metadata": {},
   "outputs": [],
   "source": [
    "from sklearn.model_selection import train_test_split\n",
    "from sklearn.preprocessing import StandardScaler\n",
    "\n",
    "from sklearn.linear_model import LogisticRegression\n",
    "from sklearn.neighbors import KNeighborsClassifier\n",
    "from sklearn.tree import DecisionTreeClassifier\n",
    "from sklearn.svm import LinearSVC, SVC\n",
    "from sklearn.neural_network import MLPClassifier\n",
    "from sklearn.ensemble import RandomForestClassifier, GradientBoostingClassifier\n",
    "from xgboost import XGBClassifier\n",
    "from lightgbm import LGBMClassifier\n",
    "from catboost import CatBoostClassifier"
   ]
  },
  {
   "cell_type": "code",
   "execution_count": 125,
   "id": "05e0429d",
   "metadata": {},
   "outputs": [
    {
     "name": "stdout",
     "output_type": "stream",
     "text": [
      "                   Logistic Regression trained.\n",
      "                   K-Nearest Neighbors trained.\n",
      "                         Decision Tree trained.\n",
      "Support Vector Machine (Linear Kernel) trained.\n",
      "   Support Vector Machine (RBF Kernel) trained.\n",
      "                        Neural Network trained.\n",
      "                         Random Forest trained.\n",
      "                     Gradient Boosting trained.\n",
      "                               XGBoost trained.\n",
      "                              LightGBM trained.\n",
      "                              CatBoost trained.\n"
     ]
    }
   ],
   "source": [
    "models = {\n",
    "    \"                   Logistic Regression\": LogisticRegression(),\n",
    "    \"                   K-Nearest Neighbors\": KNeighborsClassifier(),\n",
    "    \"                         Decision Tree\": DecisionTreeClassifier(),\n",
    "    \"Support Vector Machine (Linear Kernel)\": LinearSVC(),\n",
    "    \"   Support Vector Machine (RBF Kernel)\": SVC(),\n",
    "    \"                        Neural Network\": MLPClassifier(),\n",
    "    \"                         Random Forest\": RandomForestClassifier(),\n",
    "    \"                     Gradient Boosting\": GradientBoostingClassifier(),\n",
    "    \"                               XGBoost\": XGBClassifier(eval_metric='mlogloss'),\n",
    "    \"                              LightGBM\": LGBMClassifier(),\n",
    "    \"                              CatBoost\": CatBoostClassifier(verbose=0)\n",
    "}\n",
    "\n",
    "for name, model in models.items():\n",
    "    model.fit(train_x_scaled, train_y)\n",
    "    print(name + \" trained.\")"
   ]
  },
  {
   "cell_type": "code",
   "execution_count": 126,
   "id": "9234b16c",
   "metadata": {},
   "outputs": [
    {
     "name": "stdout",
     "output_type": "stream",
     "text": [
      "                   Logistic Regression: 76.39%\n",
      "                   K-Nearest Neighbors: 72.26%\n",
      "                         Decision Tree: 64.44%\n",
      "Support Vector Machine (Linear Kernel): 77.07%\n",
      "   Support Vector Machine (RBF Kernel): 76.69%\n",
      "                        Neural Network: 74.06%\n",
      "                         Random Forest: 75.41%\n",
      "                     Gradient Boosting: 76.77%\n",
      "                               XGBoost: 73.61%\n",
      "                              LightGBM: 75.79%\n",
      "                              CatBoost: 75.64%\n"
     ]
    }
   ],
   "source": [
    "for name, model in models.items():\n",
    "    print(name + \": {:.2f}%\".format(model.score(test_x_scaled, test_y) * 100))"
   ]
  },
  {
   "cell_type": "code",
   "execution_count": 127,
   "id": "dafede48",
   "metadata": {},
   "outputs": [],
   "source": [
    "test_y=pd.DataFrame(test_y)"
   ]
  },
  {
   "cell_type": "code",
   "execution_count": 128,
   "id": "9a9498c0",
   "metadata": {},
   "outputs": [
    {
     "name": "stdout",
     "output_type": "stream",
     "text": [
      "Support Vector Machine (Linear Kernel) R^2 Score: 0.77068\n"
     ]
    }
   ],
   "source": [
    "for name, model in models.items():\n",
    "    if name==\"Support Vector Machine (Linear Kernel)\":\n",
    "        print(name + \" R^2 Score: {:.5f}\".format(model.score(test_x_scaled, test_y)))\n",
    "        predictions_df=pd.DataFrame(test_y)\n",
    "        predictions_df['predictions']=model.predict(test_x_scaled)"
   ]
  },
  {
   "cell_type": "code",
   "execution_count": 129,
   "id": "8dc6d261",
   "metadata": {},
   "outputs": [
    {
     "data": {
      "text/plain": [
       "0.8259398496240602"
      ]
     },
     "execution_count": 129,
     "metadata": {},
     "output_type": "execute_result"
    }
   ],
   "source": [
    "model.score(train_x_scaled,train_y)"
   ]
  },
  {
   "cell_type": "code",
   "execution_count": 130,
   "id": "fd541fe5",
   "metadata": {},
   "outputs": [
    {
     "data": {
      "text/plain": [
       "0    1320\n",
       "1      10\n",
       "Name: predictions, dtype: int64"
      ]
     },
     "execution_count": 130,
     "metadata": {},
     "output_type": "execute_result"
    }
   ],
   "source": [
    "predictions_df['predictions'].value_counts()"
   ]
  },
  {
   "cell_type": "code",
   "execution_count": 131,
   "id": "5ca0783c",
   "metadata": {},
   "outputs": [
    {
     "data": {
      "text/plain": [
       "0    1023\n",
       "1     307\n",
       "Name: Is_Churn, dtype: int64"
      ]
     },
     "execution_count": 131,
     "metadata": {},
     "output_type": "execute_result"
    }
   ],
   "source": [
    "predictions_df['Is_Churn'].value_counts()"
   ]
  },
  {
   "cell_type": "code",
   "execution_count": 132,
   "id": "0cd8fd81",
   "metadata": {},
   "outputs": [],
   "source": [
    "from collections import Counter"
   ]
  },
  {
   "cell_type": "code",
   "execution_count": 133,
   "id": "d1d6d3c9",
   "metadata": {},
   "outputs": [],
   "source": [
    "def mode(sample):\n",
    "    c = Counter(sample)\n",
    "    return [k for k, v in c.items() if v == c.most_common(1)[0][1]]"
   ]
  },
  {
   "cell_type": "code",
   "execution_count": 134,
   "id": "73edc75a",
   "metadata": {},
   "outputs": [
    {
     "data": {
      "text/plain": [
       "<catboost.core.CatBoostClassifier at 0x22c7f3bd940>"
      ]
     },
     "execution_count": 134,
     "metadata": {},
     "output_type": "execute_result"
    }
   ],
   "source": [
    "model1 = LinearSVC()\n",
    "model2 = MLPClassifier()\n",
    "model3= CatBoostClassifier(verbose=0)\n",
    "\n",
    "model1.fit(train_x_scaled,train_y)\n",
    "model2.fit(train_x_scaled,train_y)\n",
    "model3.fit(train_x_scaled,train_y)\n",
    "\n",
    "\n",
    "\n"
   ]
  },
  {
   "cell_type": "code",
   "execution_count": 135,
   "id": "962480d2",
   "metadata": {},
   "outputs": [],
   "source": [
    "pred1=model1.predict(test_x_scaled)\n",
    "pred2=model2.predict(test_x_scaled)\n",
    "pred3=model3.predict(test_x_scaled)\n",
    "\n",
    "\n",
    "\n",
    "final_pred = np.array([])\n",
    "for i in range(0,len(test_x)):\n",
    "    final_pred = np.append(final_pred, mode([pred1[i], pred2[i], pred3[i]]))"
   ]
  },
  {
   "cell_type": "code",
   "execution_count": 136,
   "id": "8c224289",
   "metadata": {},
   "outputs": [],
   "source": [
    "final_pred=pd.DataFrame(final_pred)"
   ]
  },
  {
   "cell_type": "markdown",
   "id": "432c6260",
   "metadata": {},
   "source": [
    "# ............................................................................................"
   ]
  },
  {
   "cell_type": "markdown",
   "id": "0e7373d2",
   "metadata": {},
   "source": [
    "# Modeling"
   ]
  },
  {
   "cell_type": "code",
   "execution_count": 139,
   "id": "593cb73b",
   "metadata": {},
   "outputs": [],
   "source": [
    "import tensorflow\n",
    "from tensorflow import keras\n",
    "from tensorflow.keras import Sequential \n",
    "from tensorflow.keras.layers import Dense"
   ]
  },
  {
   "cell_type": "code",
   "execution_count": 140,
   "id": "45cb295e",
   "metadata": {},
   "outputs": [],
   "source": [
    "model = keras.Sequential([\n",
    "    keras.layers.Dense(23, input_shape=(23,), activation='relu'),\n",
    "    keras.layers.Dense(12, activation='relu'),\n",
    "    keras.layers.Dense(1, activation='sigmoid')\n",
    "])\n",
    "\n",
    "# opt = keras.optimizers.Adam(learning_rate=0.01)\n",
    "\n"
   ]
  },
  {
   "cell_type": "code",
   "execution_count": 141,
   "id": "0ddfdead",
   "metadata": {},
   "outputs": [
    {
     "name": "stdout",
     "output_type": "stream",
     "text": [
      "Model: \"sequential\"\n",
      "_________________________________________________________________\n",
      " Layer (type)                Output Shape              Param #   \n",
      "=================================================================\n",
      " dense (Dense)               (None, 23)                552       \n",
      "                                                                 \n",
      " dense_1 (Dense)             (None, 12)                288       \n",
      "                                                                 \n",
      " dense_2 (Dense)             (None, 1)                 13        \n",
      "                                                                 \n",
      "=================================================================\n",
      "Total params: 853\n",
      "Trainable params: 853\n",
      "Non-trainable params: 0\n",
      "_________________________________________________________________\n"
     ]
    }
   ],
   "source": [
    "model.summary()"
   ]
  },
  {
   "cell_type": "code",
   "execution_count": 142,
   "id": "d34d5dcf",
   "metadata": {},
   "outputs": [
    {
     "name": "stdout",
     "output_type": "stream",
     "text": [
      "Epoch 1/150\n",
      "167/167 [==============================] - 2s 3ms/step - loss: 0.5573 - accuracy: 0.7622\n",
      "Epoch 2/150\n",
      "167/167 [==============================] - 0s 2ms/step - loss: 0.5215 - accuracy: 0.7697\n",
      "Epoch 3/150\n",
      "167/167 [==============================] - 0s 3ms/step - loss: 0.5127 - accuracy: 0.7697\n",
      "Epoch 4/150\n",
      "167/167 [==============================] - 0s 3ms/step - loss: 0.5087 - accuracy: 0.7711\n",
      "Epoch 5/150\n",
      "167/167 [==============================] - 0s 3ms/step - loss: 0.5064 - accuracy: 0.7718\n",
      "Epoch 6/150\n",
      "167/167 [==============================] - 1s 3ms/step - loss: 0.5042 - accuracy: 0.7722\n",
      "Epoch 7/150\n",
      "167/167 [==============================] - 0s 3ms/step - loss: 0.5024 - accuracy: 0.7731\n",
      "Epoch 8/150\n",
      "167/167 [==============================] - 0s 3ms/step - loss: 0.5013 - accuracy: 0.7724\n",
      "Epoch 9/150\n",
      "167/167 [==============================] - 0s 3ms/step - loss: 0.4999 - accuracy: 0.7726\n",
      "Epoch 10/150\n",
      "167/167 [==============================] - 0s 3ms/step - loss: 0.4991 - accuracy: 0.7758\n",
      "Epoch 11/150\n",
      "167/167 [==============================] - 0s 2ms/step - loss: 0.4974 - accuracy: 0.7746\n",
      "Epoch 12/150\n",
      "167/167 [==============================] - 0s 3ms/step - loss: 0.4960 - accuracy: 0.7759\n",
      "Epoch 13/150\n",
      "167/167 [==============================] - 0s 3ms/step - loss: 0.4951 - accuracy: 0.7761\n",
      "Epoch 14/150\n",
      "167/167 [==============================] - 1s 4ms/step - loss: 0.4939 - accuracy: 0.7789\n",
      "Epoch 15/150\n",
      "167/167 [==============================] - 0s 3ms/step - loss: 0.4932 - accuracy: 0.7782\n",
      "Epoch 16/150\n",
      "167/167 [==============================] - 0s 2ms/step - loss: 0.4923 - accuracy: 0.7795\n",
      "Epoch 17/150\n",
      "167/167 [==============================] - 0s 3ms/step - loss: 0.4913 - accuracy: 0.7791\n",
      "Epoch 18/150\n",
      "167/167 [==============================] - 0s 2ms/step - loss: 0.4901 - accuracy: 0.7801\n",
      "Epoch 19/150\n",
      "167/167 [==============================] - 0s 2ms/step - loss: 0.4894 - accuracy: 0.7784\n",
      "Epoch 20/150\n",
      "167/167 [==============================] - 0s 2ms/step - loss: 0.4885 - accuracy: 0.7801\n",
      "Epoch 21/150\n",
      "167/167 [==============================] - 0s 3ms/step - loss: 0.4875 - accuracy: 0.7810\n",
      "Epoch 22/150\n",
      "167/167 [==============================] - 0s 3ms/step - loss: 0.4867 - accuracy: 0.7808\n",
      "Epoch 23/150\n",
      "167/167 [==============================] - 0s 3ms/step - loss: 0.4861 - accuracy: 0.7816\n",
      "Epoch 24/150\n",
      "167/167 [==============================] - 1s 3ms/step - loss: 0.4850 - accuracy: 0.7814\n",
      "Epoch 25/150\n",
      "167/167 [==============================] - 0s 3ms/step - loss: 0.4847 - accuracy: 0.7806\n",
      "Epoch 26/150\n",
      "167/167 [==============================] - 0s 3ms/step - loss: 0.4836 - accuracy: 0.7833\n",
      "Epoch 27/150\n",
      "167/167 [==============================] - 0s 3ms/step - loss: 0.4830 - accuracy: 0.7833\n",
      "Epoch 28/150\n",
      "167/167 [==============================] - 0s 3ms/step - loss: 0.4813 - accuracy: 0.7844\n",
      "Epoch 29/150\n",
      "167/167 [==============================] - 1s 3ms/step - loss: 0.4809 - accuracy: 0.7844\n",
      "Epoch 30/150\n",
      "167/167 [==============================] - 0s 3ms/step - loss: 0.4803 - accuracy: 0.7848\n",
      "Epoch 31/150\n",
      "167/167 [==============================] - 1s 3ms/step - loss: 0.4784 - accuracy: 0.7848\n",
      "Epoch 32/150\n",
      "167/167 [==============================] - 1s 3ms/step - loss: 0.4781 - accuracy: 0.7842\n",
      "Epoch 33/150\n",
      "167/167 [==============================] - 1s 4ms/step - loss: 0.4772 - accuracy: 0.7836\n",
      "Epoch 34/150\n",
      "167/167 [==============================] - 1s 3ms/step - loss: 0.4770 - accuracy: 0.7857\n",
      "Epoch 35/150\n",
      "167/167 [==============================] - 1s 4ms/step - loss: 0.4759 - accuracy: 0.7852\n",
      "Epoch 36/150\n",
      "167/167 [==============================] - 1s 4ms/step - loss: 0.4755 - accuracy: 0.7868\n",
      "Epoch 37/150\n",
      "167/167 [==============================] - 1s 3ms/step - loss: 0.4749 - accuracy: 0.7878\n",
      "Epoch 38/150\n",
      "167/167 [==============================] - 1s 3ms/step - loss: 0.4739 - accuracy: 0.7876\n",
      "Epoch 39/150\n",
      "167/167 [==============================] - 0s 3ms/step - loss: 0.4724 - accuracy: 0.7876\n",
      "Epoch 40/150\n",
      "167/167 [==============================] - 0s 3ms/step - loss: 0.4719 - accuracy: 0.7872\n",
      "Epoch 41/150\n",
      "167/167 [==============================] - 0s 3ms/step - loss: 0.4714 - accuracy: 0.7874\n",
      "Epoch 42/150\n",
      "167/167 [==============================] - 0s 3ms/step - loss: 0.4708 - accuracy: 0.7874\n",
      "Epoch 43/150\n",
      "167/167 [==============================] - 0s 3ms/step - loss: 0.4697 - accuracy: 0.7889\n",
      "Epoch 44/150\n",
      "167/167 [==============================] - 0s 3ms/step - loss: 0.4695 - accuracy: 0.7882\n",
      "Epoch 45/150\n",
      "167/167 [==============================] - 0s 3ms/step - loss: 0.4687 - accuracy: 0.7885\n",
      "Epoch 46/150\n",
      "167/167 [==============================] - 0s 2ms/step - loss: 0.4676 - accuracy: 0.7874\n",
      "Epoch 47/150\n",
      "167/167 [==============================] - 0s 2ms/step - loss: 0.4669 - accuracy: 0.7910\n",
      "Epoch 48/150\n",
      "167/167 [==============================] - 0s 3ms/step - loss: 0.4664 - accuracy: 0.7919\n",
      "Epoch 49/150\n",
      "167/167 [==============================] - 0s 3ms/step - loss: 0.4654 - accuracy: 0.7898\n",
      "Epoch 50/150\n",
      "167/167 [==============================] - 0s 3ms/step - loss: 0.4652 - accuracy: 0.7902\n",
      "Epoch 51/150\n",
      "167/167 [==============================] - 0s 3ms/step - loss: 0.4640 - accuracy: 0.7904\n",
      "Epoch 52/150\n",
      "167/167 [==============================] - 0s 3ms/step - loss: 0.4638 - accuracy: 0.7914\n",
      "Epoch 53/150\n",
      "167/167 [==============================] - 0s 3ms/step - loss: 0.4625 - accuracy: 0.7927\n",
      "Epoch 54/150\n",
      "167/167 [==============================] - 1s 3ms/step - loss: 0.4621 - accuracy: 0.7921\n",
      "Epoch 55/150\n",
      "167/167 [==============================] - 1s 3ms/step - loss: 0.4607 - accuracy: 0.7927\n",
      "Epoch 56/150\n",
      "167/167 [==============================] - 0s 3ms/step - loss: 0.4602 - accuracy: 0.7942\n",
      "Epoch 57/150\n",
      "167/167 [==============================] - 0s 2ms/step - loss: 0.4592 - accuracy: 0.7938\n",
      "Epoch 58/150\n",
      "167/167 [==============================] - 0s 2ms/step - loss: 0.4587 - accuracy: 0.7938\n",
      "Epoch 59/150\n",
      "167/167 [==============================] - 0s 2ms/step - loss: 0.4567 - accuracy: 0.7962\n",
      "Epoch 60/150\n",
      "167/167 [==============================] - 0s 2ms/step - loss: 0.4565 - accuracy: 0.7934\n",
      "Epoch 61/150\n",
      "167/167 [==============================] - 0s 2ms/step - loss: 0.4558 - accuracy: 0.7930\n",
      "Epoch 62/150\n",
      "167/167 [==============================] - 0s 2ms/step - loss: 0.4559 - accuracy: 0.7921\n",
      "Epoch 63/150\n",
      "167/167 [==============================] - 0s 2ms/step - loss: 0.4547 - accuracy: 0.7947\n",
      "Epoch 64/150\n",
      "167/167 [==============================] - 0s 2ms/step - loss: 0.4542 - accuracy: 0.7957\n",
      "Epoch 65/150\n",
      "167/167 [==============================] - 0s 3ms/step - loss: 0.4531 - accuracy: 0.7992\n",
      "Epoch 66/150\n",
      "167/167 [==============================] - 1s 3ms/step - loss: 0.4519 - accuracy: 0.7959\n",
      "Epoch 67/150\n",
      "167/167 [==============================] - 1s 3ms/step - loss: 0.4521 - accuracy: 0.7972\n",
      "Epoch 68/150\n",
      "167/167 [==============================] - 1s 3ms/step - loss: 0.4517 - accuracy: 0.7977\n",
      "Epoch 69/150\n",
      "167/167 [==============================] - 0s 3ms/step - loss: 0.4500 - accuracy: 0.7968\n",
      "Epoch 70/150\n",
      "167/167 [==============================] - 0s 2ms/step - loss: 0.4500 - accuracy: 0.7970\n",
      "Epoch 71/150\n",
      "167/167 [==============================] - 0s 2ms/step - loss: 0.4498 - accuracy: 0.7966\n",
      "Epoch 72/150\n",
      "167/167 [==============================] - 0s 2ms/step - loss: 0.4480 - accuracy: 0.8008\n",
      "Epoch 73/150\n",
      "167/167 [==============================] - 0s 2ms/step - loss: 0.4475 - accuracy: 0.7992\n",
      "Epoch 74/150\n",
      "167/167 [==============================] - 0s 2ms/step - loss: 0.4469 - accuracy: 0.7989\n",
      "Epoch 75/150\n",
      "167/167 [==============================] - 0s 2ms/step - loss: 0.4470 - accuracy: 0.8004\n",
      "Epoch 76/150\n",
      "167/167 [==============================] - 0s 2ms/step - loss: 0.4470 - accuracy: 0.7989\n",
      "Epoch 77/150\n",
      "167/167 [==============================] - 0s 2ms/step - loss: 0.4465 - accuracy: 0.7994\n",
      "Epoch 78/150\n",
      "167/167 [==============================] - 0s 2ms/step - loss: 0.4452 - accuracy: 0.8002\n",
      "Epoch 79/150\n",
      "167/167 [==============================] - 0s 2ms/step - loss: 0.4441 - accuracy: 0.8011\n",
      "Epoch 80/150\n",
      "167/167 [==============================] - 0s 2ms/step - loss: 0.4448 - accuracy: 0.8008\n",
      "Epoch 81/150\n",
      "167/167 [==============================] - 0s 2ms/step - loss: 0.4437 - accuracy: 0.8000\n",
      "Epoch 82/150\n",
      "167/167 [==============================] - 0s 2ms/step - loss: 0.4425 - accuracy: 0.8024\n",
      "Epoch 83/150\n",
      "167/167 [==============================] - 0s 2ms/step - loss: 0.4418 - accuracy: 0.8041\n",
      "Epoch 84/150\n",
      "167/167 [==============================] - 0s 2ms/step - loss: 0.4419 - accuracy: 0.8023\n",
      "Epoch 85/150\n",
      "167/167 [==============================] - 0s 2ms/step - loss: 0.4423 - accuracy: 0.7998\n",
      "Epoch 86/150\n",
      "167/167 [==============================] - 0s 2ms/step - loss: 0.4413 - accuracy: 0.7987\n",
      "Epoch 87/150\n",
      "167/167 [==============================] - 0s 2ms/step - loss: 0.4397 - accuracy: 0.8013\n",
      "Epoch 88/150\n",
      "167/167 [==============================] - 0s 2ms/step - loss: 0.4400 - accuracy: 0.8023\n",
      "Epoch 89/150\n",
      "167/167 [==============================] - 0s 2ms/step - loss: 0.4391 - accuracy: 0.8028\n",
      "Epoch 90/150\n",
      "167/167 [==============================] - 0s 2ms/step - loss: 0.4392 - accuracy: 0.8024\n",
      "Epoch 91/150\n",
      "167/167 [==============================] - 0s 2ms/step - loss: 0.4389 - accuracy: 0.8034\n",
      "Epoch 92/150\n",
      "167/167 [==============================] - 0s 2ms/step - loss: 0.4385 - accuracy: 0.7989\n",
      "Epoch 93/150\n",
      "167/167 [==============================] - 0s 2ms/step - loss: 0.4378 - accuracy: 0.8043\n",
      "Epoch 94/150\n",
      "167/167 [==============================] - 0s 2ms/step - loss: 0.4372 - accuracy: 0.8028\n",
      "Epoch 95/150\n",
      "167/167 [==============================] - 0s 2ms/step - loss: 0.4367 - accuracy: 0.8041\n",
      "Epoch 96/150\n",
      "167/167 [==============================] - 0s 2ms/step - loss: 0.4362 - accuracy: 0.8030\n",
      "Epoch 97/150\n",
      "167/167 [==============================] - 0s 2ms/step - loss: 0.4364 - accuracy: 0.8034\n",
      "Epoch 98/150\n",
      "167/167 [==============================] - 0s 2ms/step - loss: 0.4352 - accuracy: 0.8043\n",
      "Epoch 99/150\n",
      "167/167 [==============================] - 0s 2ms/step - loss: 0.4354 - accuracy: 0.8053\n",
      "Epoch 100/150\n",
      "167/167 [==============================] - 0s 2ms/step - loss: 0.4353 - accuracy: 0.8026\n",
      "Epoch 101/150\n",
      "167/167 [==============================] - 0s 2ms/step - loss: 0.4348 - accuracy: 0.8058\n",
      "Epoch 102/150\n",
      "167/167 [==============================] - 0s 2ms/step - loss: 0.4338 - accuracy: 0.8053\n",
      "Epoch 103/150\n",
      "167/167 [==============================] - 0s 2ms/step - loss: 0.4353 - accuracy: 0.8039\n",
      "Epoch 104/150\n",
      "167/167 [==============================] - 0s 2ms/step - loss: 0.4338 - accuracy: 0.8055\n",
      "Epoch 105/150\n",
      "167/167 [==============================] - 0s 2ms/step - loss: 0.4330 - accuracy: 0.8047\n",
      "Epoch 106/150\n",
      "167/167 [==============================] - 0s 2ms/step - loss: 0.4339 - accuracy: 0.8045\n",
      "Epoch 107/150\n",
      "167/167 [==============================] - 0s 2ms/step - loss: 0.4329 - accuracy: 0.8056\n",
      "Epoch 108/150\n",
      "167/167 [==============================] - 0s 3ms/step - loss: 0.4315 - accuracy: 0.8077\n",
      "Epoch 109/150\n",
      "167/167 [==============================] - 0s 3ms/step - loss: 0.4322 - accuracy: 0.8066\n",
      "Epoch 110/150\n",
      "167/167 [==============================] - 1s 3ms/step - loss: 0.4312 - accuracy: 0.8086\n",
      "Epoch 111/150\n",
      "167/167 [==============================] - 0s 3ms/step - loss: 0.4320 - accuracy: 0.8055\n",
      "Epoch 112/150\n",
      "167/167 [==============================] - 0s 3ms/step - loss: 0.4308 - accuracy: 0.8073\n",
      "Epoch 113/150\n",
      "167/167 [==============================] - 0s 2ms/step - loss: 0.4303 - accuracy: 0.8070\n",
      "Epoch 114/150\n",
      "167/167 [==============================] - 0s 2ms/step - loss: 0.4300 - accuracy: 0.8092\n",
      "Epoch 115/150\n",
      "167/167 [==============================] - 0s 2ms/step - loss: 0.4305 - accuracy: 0.8090\n",
      "Epoch 116/150\n",
      "167/167 [==============================] - 0s 2ms/step - loss: 0.4288 - accuracy: 0.8077\n",
      "Epoch 117/150\n",
      "167/167 [==============================] - 0s 2ms/step - loss: 0.4291 - accuracy: 0.8073\n",
      "Epoch 118/150\n",
      "167/167 [==============================] - 0s 2ms/step - loss: 0.4287 - accuracy: 0.8064\n",
      "Epoch 119/150\n",
      "167/167 [==============================] - 0s 2ms/step - loss: 0.4286 - accuracy: 0.8075\n",
      "Epoch 120/150\n",
      "167/167 [==============================] - 0s 3ms/step - loss: 0.4283 - accuracy: 0.8077\n",
      "Epoch 121/150\n",
      "167/167 [==============================] - 0s 3ms/step - loss: 0.4276 - accuracy: 0.8102\n",
      "Epoch 122/150\n",
      "167/167 [==============================] - 0s 2ms/step - loss: 0.4279 - accuracy: 0.8113\n",
      "Epoch 123/150\n",
      "167/167 [==============================] - 0s 2ms/step - loss: 0.4272 - accuracy: 0.8103\n",
      "Epoch 124/150\n",
      "167/167 [==============================] - 0s 2ms/step - loss: 0.4270 - accuracy: 0.8098\n",
      "Epoch 125/150\n",
      "167/167 [==============================] - 0s 2ms/step - loss: 0.4271 - accuracy: 0.8100\n",
      "Epoch 126/150\n",
      "167/167 [==============================] - 0s 2ms/step - loss: 0.4263 - accuracy: 0.8088\n",
      "Epoch 127/150\n",
      "167/167 [==============================] - 0s 2ms/step - loss: 0.4250 - accuracy: 0.8111\n",
      "Epoch 128/150\n",
      "167/167 [==============================] - 0s 2ms/step - loss: 0.4262 - accuracy: 0.8113\n",
      "Epoch 129/150\n",
      "167/167 [==============================] - 0s 2ms/step - loss: 0.4256 - accuracy: 0.8115\n",
      "Epoch 130/150\n",
      "167/167 [==============================] - 0s 2ms/step - loss: 0.4265 - accuracy: 0.8081\n",
      "Epoch 131/150\n",
      "167/167 [==============================] - 0s 2ms/step - loss: 0.4254 - accuracy: 0.8088\n",
      "Epoch 132/150\n",
      "167/167 [==============================] - 0s 2ms/step - loss: 0.4252 - accuracy: 0.8135\n",
      "Epoch 133/150\n",
      "167/167 [==============================] - 0s 2ms/step - loss: 0.4253 - accuracy: 0.8115\n",
      "Epoch 134/150\n",
      "167/167 [==============================] - 0s 3ms/step - loss: 0.4256 - accuracy: 0.8102\n",
      "Epoch 135/150\n",
      "167/167 [==============================] - 0s 2ms/step - loss: 0.4241 - accuracy: 0.8128\n",
      "Epoch 136/150\n",
      "167/167 [==============================] - 0s 2ms/step - loss: 0.4236 - accuracy: 0.8120\n",
      "Epoch 137/150\n",
      "167/167 [==============================] - 0s 2ms/step - loss: 0.4235 - accuracy: 0.8118\n",
      "Epoch 138/150\n",
      "167/167 [==============================] - 0s 2ms/step - loss: 0.4234 - accuracy: 0.8118\n",
      "Epoch 139/150\n",
      "167/167 [==============================] - 0s 2ms/step - loss: 0.4239 - accuracy: 0.8124\n",
      "Epoch 140/150\n",
      "167/167 [==============================] - 0s 2ms/step - loss: 0.4235 - accuracy: 0.8133\n",
      "Epoch 141/150\n",
      "167/167 [==============================] - 0s 2ms/step - loss: 0.4228 - accuracy: 0.8118\n",
      "Epoch 142/150\n",
      "167/167 [==============================] - 0s 2ms/step - loss: 0.4224 - accuracy: 0.8128\n",
      "Epoch 143/150\n",
      "167/167 [==============================] - 0s 2ms/step - loss: 0.4224 - accuracy: 0.8133\n",
      "Epoch 144/150\n",
      "167/167 [==============================] - 0s 2ms/step - loss: 0.4215 - accuracy: 0.8150\n",
      "Epoch 145/150\n",
      "167/167 [==============================] - 0s 2ms/step - loss: 0.4208 - accuracy: 0.8162\n",
      "Epoch 146/150\n",
      "167/167 [==============================] - 1s 3ms/step - loss: 0.4216 - accuracy: 0.8115\n",
      "Epoch 147/150\n",
      "167/167 [==============================] - 1s 3ms/step - loss: 0.4216 - accuracy: 0.8139\n",
      "Epoch 148/150\n",
      "167/167 [==============================] - 0s 3ms/step - loss: 0.4217 - accuracy: 0.8154\n",
      "Epoch 149/150\n",
      "167/167 [==============================] - 1s 3ms/step - loss: 0.4207 - accuracy: 0.8133\n",
      "Epoch 150/150\n",
      "167/167 [==============================] - 1s 3ms/step - loss: 0.4206 - accuracy: 0.8128\n"
     ]
    },
    {
     "data": {
      "text/plain": [
       "<keras.callbacks.History at 0x22c056ab8b0>"
      ]
     },
     "execution_count": 142,
     "metadata": {},
     "output_type": "execute_result"
    }
   ],
   "source": [
    "model.compile(optimizer='adam',\n",
    "              loss='binary_crossentropy',\n",
    "              metrics=['accuracy'])\n",
    "\n",
    "model.fit(train_x_scaled, train_y, epochs=150)"
   ]
  },
  {
   "cell_type": "code",
   "execution_count": 144,
   "id": "2de88fa0",
   "metadata": {},
   "outputs": [],
   "source": [
    "y_pred = model.predict(test_x_scaled)"
   ]
  },
  {
   "cell_type": "code",
   "execution_count": 145,
   "id": "efbe9889",
   "metadata": {},
   "outputs": [
    {
     "data": {
      "text/plain": [
       "array([[0.01944578],\n",
       "       [0.1868195 ],\n",
       "       [0.13612083],\n",
       "       ...,\n",
       "       [0.14020771],\n",
       "       [0.37307528],\n",
       "       [0.28649342]], dtype=float32)"
      ]
     },
     "execution_count": 145,
     "metadata": {},
     "output_type": "execute_result"
    }
   ],
   "source": [
    "y_pred"
   ]
  },
  {
   "cell_type": "code",
   "execution_count": 146,
   "id": "78c02115",
   "metadata": {},
   "outputs": [],
   "source": [
    "y_pred=np.where(y_pred>0.5,1,0)"
   ]
  },
  {
   "cell_type": "code",
   "execution_count": 147,
   "id": "cc3109ec",
   "metadata": {},
   "outputs": [],
   "source": [
    "final_df=pd.DataFrame(test_y)"
   ]
  },
  {
   "cell_type": "code",
   "execution_count": 148,
   "id": "85d510f8",
   "metadata": {},
   "outputs": [],
   "source": [
    "final_df['y_pred']=y_pred"
   ]
  },
  {
   "cell_type": "code",
   "execution_count": 149,
   "id": "b4aed78c",
   "metadata": {},
   "outputs": [
    {
     "data": {
      "text/plain": [
       "(0    1195\n",
       " 1     135\n",
       " Name: y_pred, dtype: int64,\n",
       " 0    1023\n",
       " 1     307\n",
       " Name: Is_Churn, dtype: int64)"
      ]
     },
     "execution_count": 149,
     "metadata": {},
     "output_type": "execute_result"
    }
   ],
   "source": [
    "final_df['y_pred'].value_counts(),final_df['Is_Churn'].value_counts()"
   ]
  },
  {
   "cell_type": "markdown",
   "id": "2bf274a9",
   "metadata": {},
   "source": [
    "# ................................................................................................................."
   ]
  },
  {
   "cell_type": "code",
   "execution_count": 150,
   "id": "82d464fd",
   "metadata": {},
   "outputs": [],
   "source": [
    "test_data= pd.read_csv(\"test_lTY72QC.csv\")"
   ]
  },
  {
   "cell_type": "code",
   "execution_count": 151,
   "id": "ebac8425",
   "metadata": {},
   "outputs": [
    {
     "data": {
      "text/plain": [
       "Index(['ID', 'Age', 'Gender', 'Income', 'Balance', 'Vintage',\n",
       "       'Transaction_Status', 'Product_Holdings', 'Credit_Card',\n",
       "       'Credit_Category'],\n",
       "      dtype='object')"
      ]
     },
     "execution_count": 151,
     "metadata": {},
     "output_type": "execute_result"
    }
   ],
   "source": [
    "test_data.columns"
   ]
  },
  {
   "cell_type": "code",
   "execution_count": 152,
   "id": "cc0aaa88",
   "metadata": {},
   "outputs": [],
   "source": [
    "# Store 'ID' values in a data frame\n",
    "chrun_prediction_output1=pd.DataFrame(test_data['ID'])"
   ]
  },
  {
   "cell_type": "code",
   "execution_count": 153,
   "id": "5addd4eb",
   "metadata": {},
   "outputs": [],
   "source": [
    "# Dropping 'ID' feature\n",
    "test_data.drop(\"ID\",axis=1,inplace=True)"
   ]
  },
  {
   "cell_type": "code",
   "execution_count": 154,
   "id": "24ddde38",
   "metadata": {},
   "outputs": [
    {
     "data": {
      "text/html": [
       "<div>\n",
       "<style scoped>\n",
       "    .dataframe tbody tr th:only-of-type {\n",
       "        vertical-align: middle;\n",
       "    }\n",
       "\n",
       "    .dataframe tbody tr th {\n",
       "        vertical-align: top;\n",
       "    }\n",
       "\n",
       "    .dataframe thead th {\n",
       "        text-align: right;\n",
       "    }\n",
       "</style>\n",
       "<table border=\"1\" class=\"dataframe\">\n",
       "  <thead>\n",
       "    <tr style=\"text-align: right;\">\n",
       "      <th></th>\n",
       "      <th>dtype</th>\n",
       "      <th>no. of unique values</th>\n",
       "      <th>no.of null values</th>\n",
       "    </tr>\n",
       "  </thead>\n",
       "  <tbody>\n",
       "    <tr>\n",
       "      <th>Age</th>\n",
       "      <td>int64</td>\n",
       "      <td>52</td>\n",
       "      <td>0</td>\n",
       "    </tr>\n",
       "    <tr>\n",
       "      <th>Balance</th>\n",
       "      <td>float64</td>\n",
       "      <td>6643</td>\n",
       "      <td>0</td>\n",
       "    </tr>\n",
       "    <tr>\n",
       "      <th>Credit_Card</th>\n",
       "      <td>int64</td>\n",
       "      <td>2</td>\n",
       "      <td>0</td>\n",
       "    </tr>\n",
       "    <tr>\n",
       "      <th>Credit_Category</th>\n",
       "      <td>object</td>\n",
       "      <td>3</td>\n",
       "      <td>0</td>\n",
       "    </tr>\n",
       "    <tr>\n",
       "      <th>Gender</th>\n",
       "      <td>object</td>\n",
       "      <td>2</td>\n",
       "      <td>0</td>\n",
       "    </tr>\n",
       "    <tr>\n",
       "      <th>Income</th>\n",
       "      <td>object</td>\n",
       "      <td>4</td>\n",
       "      <td>0</td>\n",
       "    </tr>\n",
       "    <tr>\n",
       "      <th>Is_Churn</th>\n",
       "      <td>NaN</td>\n",
       "      <td>2</td>\n",
       "      <td>0</td>\n",
       "    </tr>\n",
       "    <tr>\n",
       "      <th>Product_Holdings</th>\n",
       "      <td>object</td>\n",
       "      <td>3</td>\n",
       "      <td>0</td>\n",
       "    </tr>\n",
       "    <tr>\n",
       "      <th>Transaction_Status</th>\n",
       "      <td>int64</td>\n",
       "      <td>2</td>\n",
       "      <td>0</td>\n",
       "    </tr>\n",
       "    <tr>\n",
       "      <th>Vintage</th>\n",
       "      <td>int64</td>\n",
       "      <td>6</td>\n",
       "      <td>0</td>\n",
       "    </tr>\n",
       "    <tr>\n",
       "      <th>credit_card_performace</th>\n",
       "      <td>NaN</td>\n",
       "      <td>3</td>\n",
       "      <td>0</td>\n",
       "    </tr>\n",
       "    <tr>\n",
       "      <th>high_product_holders_credit_category</th>\n",
       "      <td>NaN</td>\n",
       "      <td>3</td>\n",
       "      <td>0</td>\n",
       "    </tr>\n",
       "    <tr>\n",
       "      <th>old_age_transaction_status</th>\n",
       "      <td>NaN</td>\n",
       "      <td>3</td>\n",
       "      <td>0</td>\n",
       "    </tr>\n",
       "  </tbody>\n",
       "</table>\n",
       "</div>"
      ],
      "text/plain": [
       "                                        dtype  no. of unique values  \\\n",
       "Age                                     int64                    52   \n",
       "Balance                               float64                  6643   \n",
       "Credit_Card                             int64                     2   \n",
       "Credit_Category                        object                     3   \n",
       "Gender                                 object                     2   \n",
       "Income                                 object                     4   \n",
       "Is_Churn                                  NaN                     2   \n",
       "Product_Holdings                       object                     3   \n",
       "Transaction_Status                      int64                     2   \n",
       "Vintage                                 int64                     6   \n",
       "credit_card_performace                    NaN                     3   \n",
       "high_product_holders_credit_category      NaN                     3   \n",
       "old_age_transaction_status                NaN                     3   \n",
       "\n",
       "                                      no.of null values  \n",
       "Age                                                   0  \n",
       "Balance                                               0  \n",
       "Credit_Card                                           0  \n",
       "Credit_Category                                       0  \n",
       "Gender                                                0  \n",
       "Income                                                0  \n",
       "Is_Churn                                              0  \n",
       "Product_Holdings                                      0  \n",
       "Transaction_Status                                    0  \n",
       "Vintage                                               0  \n",
       "credit_card_performace                                0  \n",
       "high_product_holders_credit_category                  0  \n",
       "old_age_transaction_status                            0  "
      ]
     },
     "execution_count": 154,
     "metadata": {},
     "output_type": "execute_result"
    }
   ],
   "source": [
    "df=pd.DataFrame({\"dtype\" : test_data.dtypes ,\"no. of unique values\": data.nunique(), \"no.of null values\":data.isna().sum()})\n",
    "df"
   ]
  },
  {
   "cell_type": "code",
   "execution_count": 155,
   "id": "31be05bc",
   "metadata": {},
   "outputs": [
    {
     "data": {
      "application/vnd.jupyter.widget-view+json": {
       "model_id": "a5e1c06151b140aebb3c9dfa4fbb5cad",
       "version_major": 2,
       "version_minor": 0
      },
      "text/plain": [
       "                                             |          | [  0%]   00:00 -> (? left)"
      ]
     },
     "metadata": {},
     "output_type": "display_data"
    },
    {
     "name": "stdout",
     "output_type": "stream",
     "text": [
      "Report SWEETVIZ_REPORT.html was generated! NOTEBOOK/COLAB USERS: the web browser MAY not pop up, regardless, the report IS saved in your notebook/colab files.\n"
     ]
    }
   ],
   "source": [
    "import sweetviz as sv\n",
    "report = sv.analyze(test_data)\n",
    "report.show_html()"
   ]
  },
  {
   "cell_type": "code",
   "execution_count": 156,
   "id": "4fbd016c",
   "metadata": {},
   "outputs": [],
   "source": [
    "test_data['credit_card_performace']=0\n",
    "for i,j in enumerate(test_data['credit_card_performace']):\n",
    "    if (test_data['Credit_Card'][i]==1):\n",
    "        if test_data['Credit_Category'][i]=='Poor':\n",
    "            test_data['credit_card_performace'][i]=1\n",
    "        elif test_data['Credit_Category'][i]=='Good':\n",
    "            test_data['credit_card_performace'][i]=2"
   ]
  },
  {
   "cell_type": "code",
   "execution_count": 157,
   "id": "0cef1101",
   "metadata": {},
   "outputs": [],
   "source": [
    "test_data['high_product_holders_credit_category']=0\n",
    "for i,j in enumerate(test_data['high_product_holders_credit_category']):\n",
    "    if (test_data['Product_Holdings'][i]=='3+'):\n",
    "        if test_data['Credit_Category'][i]=='Poor':\n",
    "            test_data['high_product_holders_credit_category'][i]=1\n",
    "        elif test_data['Credit_Category'][i]=='Good':\n",
    "            test_data['high_product_holders_credit_category'][i]=2"
   ]
  },
  {
   "cell_type": "code",
   "execution_count": 158,
   "id": "4f5b1eaa",
   "metadata": {},
   "outputs": [],
   "source": [
    "test_data['old_age_transaction_status']=0\n",
    "for i,j in enumerate(test_data['old_age_transaction_status']):\n",
    "    if (test_data['Age'][i]>60):\n",
    "        if test_data['Income'][i]=='5L - 10L':\n",
    "            test_data['old_age_transaction_status'][i]=1\n",
    "        elif test_data['Income'][i]=='More than 15L':\n",
    "            test_data['old_age_transaction_status'][i]=2"
   ]
  },
  {
   "cell_type": "code",
   "execution_count": 159,
   "id": "97ee34cd",
   "metadata": {},
   "outputs": [],
   "source": [
    "test_data= pd.get_dummies(data=test_data, columns=cat_cols,drop_first= True)"
   ]
  },
  {
   "cell_type": "code",
   "execution_count": 160,
   "id": "6d8f5699",
   "metadata": {},
   "outputs": [],
   "source": [
    "test_data_scaled=scaler.transform(test_data)"
   ]
  },
  {
   "cell_type": "code",
   "execution_count": 161,
   "id": "178b32f9",
   "metadata": {},
   "outputs": [],
   "source": [
    "pred=model.predict(test_data_scaled)"
   ]
  },
  {
   "cell_type": "code",
   "execution_count": 162,
   "id": "ed441a3c",
   "metadata": {},
   "outputs": [],
   "source": [
    "pred=np.where(pred>0.5,1,0)"
   ]
  },
  {
   "cell_type": "code",
   "execution_count": 163,
   "id": "9baa91c3",
   "metadata": {},
   "outputs": [
    {
     "data": {
      "text/plain": [
       "array([[0],\n",
       "       [0],\n",
       "       [0],\n",
       "       ...,\n",
       "       [1],\n",
       "       [0],\n",
       "       [0]])"
      ]
     },
     "execution_count": 163,
     "metadata": {},
     "output_type": "execute_result"
    }
   ],
   "source": [
    "pred"
   ]
  },
  {
   "cell_type": "code",
   "execution_count": 164,
   "id": "6f91c3c1",
   "metadata": {},
   "outputs": [
    {
     "name": "stdout",
     "output_type": "stream",
     "text": [
      "90/90 [==============================] - 0s 3ms/step - loss: 0.2252 - accuracy: 1.0000\n"
     ]
    },
    {
     "data": {
      "text/plain": [
       "[0.22518645226955414, 1.0]"
      ]
     },
     "execution_count": 164,
     "metadata": {},
     "output_type": "execute_result"
    }
   ],
   "source": [
    "model.evaluate(test_data_scaled , pred)"
   ]
  },
  {
   "cell_type": "code",
   "execution_count": 165,
   "id": "22d9938b",
   "metadata": {},
   "outputs": [],
   "source": [
    "chrun_prediction_output1['Is_Churn']=pred"
   ]
  },
  {
   "cell_type": "code",
   "execution_count": 166,
   "id": "ff1b9df2",
   "metadata": {},
   "outputs": [
    {
     "data": {
      "text/plain": [
       "0    2578\n",
       "1     273\n",
       "Name: Is_Churn, dtype: int64"
      ]
     },
     "execution_count": 166,
     "metadata": {},
     "output_type": "execute_result"
    }
   ],
   "source": [
    "chrun_prediction_output1['Is_Churn'].value_counts()"
   ]
  },
  {
   "cell_type": "code",
   "execution_count": 167,
   "id": "bb01cc44",
   "metadata": {},
   "outputs": [
    {
     "data": {
      "text/html": [
       "<div>\n",
       "<style scoped>\n",
       "    .dataframe tbody tr th:only-of-type {\n",
       "        vertical-align: middle;\n",
       "    }\n",
       "\n",
       "    .dataframe tbody tr th {\n",
       "        vertical-align: top;\n",
       "    }\n",
       "\n",
       "    .dataframe thead th {\n",
       "        text-align: right;\n",
       "    }\n",
       "</style>\n",
       "<table border=\"1\" class=\"dataframe\">\n",
       "  <thead>\n",
       "    <tr style=\"text-align: right;\">\n",
       "      <th></th>\n",
       "      <th>ID</th>\n",
       "      <th>Is_Churn</th>\n",
       "    </tr>\n",
       "  </thead>\n",
       "  <tbody>\n",
       "    <tr>\n",
       "      <th>0</th>\n",
       "      <td>55480787</td>\n",
       "      <td>0</td>\n",
       "    </tr>\n",
       "    <tr>\n",
       "      <th>1</th>\n",
       "      <td>9aededf2</td>\n",
       "      <td>0</td>\n",
       "    </tr>\n",
       "    <tr>\n",
       "      <th>2</th>\n",
       "      <td>a5034a09</td>\n",
       "      <td>0</td>\n",
       "    </tr>\n",
       "    <tr>\n",
       "      <th>3</th>\n",
       "      <td>b3256702</td>\n",
       "      <td>0</td>\n",
       "    </tr>\n",
       "    <tr>\n",
       "      <th>4</th>\n",
       "      <td>dc28adb5</td>\n",
       "      <td>0</td>\n",
       "    </tr>\n",
       "    <tr>\n",
       "      <th>...</th>\n",
       "      <td>...</td>\n",
       "      <td>...</td>\n",
       "    </tr>\n",
       "    <tr>\n",
       "      <th>2846</th>\n",
       "      <td>19e40adf</td>\n",
       "      <td>0</td>\n",
       "    </tr>\n",
       "    <tr>\n",
       "      <th>2847</th>\n",
       "      <td>52d5bc8d</td>\n",
       "      <td>0</td>\n",
       "    </tr>\n",
       "    <tr>\n",
       "      <th>2848</th>\n",
       "      <td>f708121b</td>\n",
       "      <td>1</td>\n",
       "    </tr>\n",
       "    <tr>\n",
       "      <th>2849</th>\n",
       "      <td>f008715d</td>\n",
       "      <td>0</td>\n",
       "    </tr>\n",
       "    <tr>\n",
       "      <th>2850</th>\n",
       "      <td>36b81f59</td>\n",
       "      <td>0</td>\n",
       "    </tr>\n",
       "  </tbody>\n",
       "</table>\n",
       "<p>2851 rows × 2 columns</p>\n",
       "</div>"
      ],
      "text/plain": [
       "            ID  Is_Churn\n",
       "0     55480787         0\n",
       "1     9aededf2         0\n",
       "2     a5034a09         0\n",
       "3     b3256702         0\n",
       "4     dc28adb5         0\n",
       "...        ...       ...\n",
       "2846  19e40adf         0\n",
       "2847  52d5bc8d         0\n",
       "2848  f708121b         1\n",
       "2849  f008715d         0\n",
       "2850  36b81f59         0\n",
       "\n",
       "[2851 rows x 2 columns]"
      ]
     },
     "execution_count": 167,
     "metadata": {},
     "output_type": "execute_result"
    }
   ],
   "source": [
    "chrun_prediction_output1"
   ]
  },
  {
   "cell_type": "code",
   "execution_count": 168,
   "id": "0f223a83",
   "metadata": {},
   "outputs": [],
   "source": [
    "chrun_prediction_output1.set_index('ID', drop=True, inplace=True)"
   ]
  },
  {
   "cell_type": "code",
   "execution_count": 169,
   "id": "b22b1397",
   "metadata": {},
   "outputs": [
    {
     "data": {
      "text/html": [
       "<div>\n",
       "<style scoped>\n",
       "    .dataframe tbody tr th:only-of-type {\n",
       "        vertical-align: middle;\n",
       "    }\n",
       "\n",
       "    .dataframe tbody tr th {\n",
       "        vertical-align: top;\n",
       "    }\n",
       "\n",
       "    .dataframe thead th {\n",
       "        text-align: right;\n",
       "    }\n",
       "</style>\n",
       "<table border=\"1\" class=\"dataframe\">\n",
       "  <thead>\n",
       "    <tr style=\"text-align: right;\">\n",
       "      <th></th>\n",
       "      <th>Is_Churn</th>\n",
       "    </tr>\n",
       "    <tr>\n",
       "      <th>ID</th>\n",
       "      <th></th>\n",
       "    </tr>\n",
       "  </thead>\n",
       "  <tbody>\n",
       "    <tr>\n",
       "      <th>55480787</th>\n",
       "      <td>0</td>\n",
       "    </tr>\n",
       "    <tr>\n",
       "      <th>9aededf2</th>\n",
       "      <td>0</td>\n",
       "    </tr>\n",
       "    <tr>\n",
       "      <th>a5034a09</th>\n",
       "      <td>0</td>\n",
       "    </tr>\n",
       "    <tr>\n",
       "      <th>b3256702</th>\n",
       "      <td>0</td>\n",
       "    </tr>\n",
       "    <tr>\n",
       "      <th>dc28adb5</th>\n",
       "      <td>0</td>\n",
       "    </tr>\n",
       "    <tr>\n",
       "      <th>...</th>\n",
       "      <td>...</td>\n",
       "    </tr>\n",
       "    <tr>\n",
       "      <th>19e40adf</th>\n",
       "      <td>0</td>\n",
       "    </tr>\n",
       "    <tr>\n",
       "      <th>52d5bc8d</th>\n",
       "      <td>0</td>\n",
       "    </tr>\n",
       "    <tr>\n",
       "      <th>f708121b</th>\n",
       "      <td>1</td>\n",
       "    </tr>\n",
       "    <tr>\n",
       "      <th>f008715d</th>\n",
       "      <td>0</td>\n",
       "    </tr>\n",
       "    <tr>\n",
       "      <th>36b81f59</th>\n",
       "      <td>0</td>\n",
       "    </tr>\n",
       "  </tbody>\n",
       "</table>\n",
       "<p>2851 rows × 1 columns</p>\n",
       "</div>"
      ],
      "text/plain": [
       "          Is_Churn\n",
       "ID                \n",
       "55480787         0\n",
       "9aededf2         0\n",
       "a5034a09         0\n",
       "b3256702         0\n",
       "dc28adb5         0\n",
       "...            ...\n",
       "19e40adf         0\n",
       "52d5bc8d         0\n",
       "f708121b         1\n",
       "f008715d         0\n",
       "36b81f59         0\n",
       "\n",
       "[2851 rows x 1 columns]"
      ]
     },
     "execution_count": 169,
     "metadata": {},
     "output_type": "execute_result"
    }
   ],
   "source": [
    "chrun_prediction_output1"
   ]
  },
  {
   "cell_type": "code",
   "execution_count": 170,
   "id": "a68a9786",
   "metadata": {},
   "outputs": [],
   "source": [
    "chrun_prediction_output1.to_csv(\"chrun_prediction.csv\")"
   ]
  },
  {
   "cell_type": "code",
   "execution_count": null,
   "id": "a781628c",
   "metadata": {},
   "outputs": [],
   "source": []
  },
  {
   "cell_type": "code",
   "execution_count": null,
   "id": "5cb708a9",
   "metadata": {},
   "outputs": [],
   "source": []
  },
  {
   "cell_type": "code",
   "execution_count": null,
   "id": "b4fed375",
   "metadata": {},
   "outputs": [],
   "source": []
  },
  {
   "cell_type": "code",
   "execution_count": null,
   "id": "d588f8e4",
   "metadata": {},
   "outputs": [],
   "source": []
  }
 ],
 "metadata": {
  "kernelspec": {
   "display_name": "Python 3 (ipykernel)",
   "language": "python",
   "name": "python3"
  },
  "language_info": {
   "codemirror_mode": {
    "name": "ipython",
    "version": 3
   },
   "file_extension": ".py",
   "mimetype": "text/x-python",
   "name": "python",
   "nbconvert_exporter": "python",
   "pygments_lexer": "ipython3",
   "version": "3.9.7"
  }
 },
 "nbformat": 4,
 "nbformat_minor": 5
}

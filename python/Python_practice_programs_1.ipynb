{
 "cells": [
  {
   "cell_type": "markdown",
   "id": "68694514",
   "metadata": {},
   "source": [
    "### 100 people standing in a circle in an order 1 to 100. No. 1 has a sword. He kills the next person (i.e. No. 2) and gives the sword to the next (i.e. No. 3). All people do the same until only 1 survives. Which number survives at the last? \n",
    "There are 100 people starting from 1 to 100.\n",
    "\n",
    "\n"
   ]
  },
  {
   "cell_type": "code",
   "execution_count": null,
   "id": "88a72990",
   "metadata": {},
   "outputs": [],
   "source": [
    "import pandas as pd"
   ]
  },
  {
   "cell_type": "code",
   "execution_count": 59,
   "id": "cea743b2",
   "metadata": {},
   "outputs": [
    {
     "name": "stdout",
     "output_type": "stream",
     "text": [
      "Enter number of people standing in a circle: 100\n"
     ]
    }
   ],
   "source": [
    "#consider an empty list\n",
    "list1=[]\n",
    "#consider number of people standing('n') in a circle from user\n",
    "n=int(input(\"Enter number of people standing in a circle: \"))\n",
    "#add n number of elements(from 1 to n) in list1\n",
    "for i in range(1,n+1):\n",
    "    list1.append(i)\n"
   ]
  },
  {
   "cell_type": "code",
   "execution_count": 97,
   "id": "111b3939",
   "metadata": {},
   "outputs": [
    {
     "name": "stdout",
     "output_type": "stream",
     "text": [
      "Person at number [73] survives till the end\n"
     ]
    }
   ],
   "source": [
    "#consider a variable k starts from 0\n",
    "k=0\n",
    "#iterate a while loop that executes till the length of list1 is one.\n",
    "while(len(list1)!=1):\n",
    "# Make the value of the variable k = 0/-1 once it completes a round as the people are standing in a circle.\n",
    "    if (len(list1)<k+1):\n",
    "        k=0\n",
    "    if (len(list1)==k+1):\n",
    "        k=-1\n",
    "#Remove alternate elements from list1  \n",
    "    list1.pop(k+1)\n",
    "    \n",
    "#increment the value of k by 1\n",
    "    k+=1    \n",
    "    \n",
    "print(\"Person at number {} survives till the end\".format(list1))"
   ]
  },
  {
   "cell_type": "markdown",
   "id": "80c5d857",
   "metadata": {},
   "source": [
    "### Solve it for n people and r step as well"
   ]
  },
  {
   "cell_type": "code",
   "execution_count": 100,
   "id": "0a5792a8",
   "metadata": {
    "scrolled": true
   },
   "outputs": [
    {
     "name": "stdout",
     "output_type": "stream",
     "text": [
      "Enter number of people standing in a circle: 5\n",
      "Enter the value of r (step):3\n",
      "Person at number 4 survives till the end\n"
     ]
    }
   ],
   "source": [
    "   def survived(n, r):\n",
    " #if number of persons = 1, then return 1.\n",
    "    if (n == 1):\n",
    "        return 1\n",
    "    else:\n",
    " #using recursion call , get the result for survived(1,r) and follows ,then add k-1 for every call \n",
    " #do find modulus of the obtained result with number of persons + 1 (we use modulus  as they stand in a circle)\n",
    "        return (survived(n - 1, r) + r-1) % n + 1\n",
    " \n",
    " \n",
    " \n",
    "#consider number of people standing('n') in a circle from user\n",
    "n=int(input(\"Enter number of people standing in a circle: \"))\n",
    "r=int(input(\"Enter the value of r (step):\"))\n",
    "print(\"Person at number {} survives till the end\".format(survived(n, r)))"
   ]
  }
 ],
 "metadata": {
  "kernelspec": {
   "display_name": "Python 3 (ipykernel)",
   "language": "python",
   "name": "python3"
  },
  "language_info": {
   "codemirror_mode": {
    "name": "ipython",
    "version": 3
   },
   "file_extension": ".py",
   "mimetype": "text/x-python",
   "name": "python",
   "nbconvert_exporter": "python",
   "pygments_lexer": "ipython3",
   "version": "3.9.7"
  }
 },
 "nbformat": 4,
 "nbformat_minor": 5
}

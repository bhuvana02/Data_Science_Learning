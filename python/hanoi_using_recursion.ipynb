{
 "cells": [
  {
   "cell_type": "code",
   "execution_count": 52,
   "id": "ae1d6bc7",
   "metadata": {},
   "outputs": [],
   "source": [
    "#defining hanoi function\n",
    "def hanoi(n,source,intermediate,destination):\n",
    "#if statement executes only if n is a postive integer\n",
    "    if n>0:\n",
    "# using recursion technique calling the function by interchanging the pole names (intermediate and destination) \n",
    "         hanoi(n-1,source,destination,intermediate)\n",
    "         print(\"Move {} disc :   {} -> {}\".format(n,source,destination))\n",
    "# using recursion technique calling the function by interchanging the pole names (source and intermediate)\n",
    "         hanoi(n-1,intermediate,source,destination)\n",
    "         "
   ]
  },
  {
   "cell_type": "code",
   "execution_count": 56,
   "id": "0ef0db6f",
   "metadata": {},
   "outputs": [
    {
     "name": "stdout",
     "output_type": "stream",
     "text": [
      "Enter number of discs to be shifted: 5\n",
      "Enter source pole name: A\n",
      "Enter intermediate pole name: B\n",
      "Enter destination pole name: C\n",
      "Move 1 disc :   A -> C\n",
      "Move 2 disc :   A -> B\n",
      "Move 1 disc :   C -> B\n",
      "Move 3 disc :   A -> C\n",
      "Move 1 disc :   B -> A\n",
      "Move 2 disc :   B -> C\n",
      "Move 1 disc :   A -> C\n",
      "Move 4 disc :   A -> B\n",
      "Move 1 disc :   C -> B\n",
      "Move 2 disc :   C -> A\n",
      "Move 1 disc :   B -> A\n",
      "Move 3 disc :   C -> B\n",
      "Move 1 disc :   A -> C\n",
      "Move 2 disc :   A -> B\n",
      "Move 1 disc :   C -> B\n",
      "Move 5 disc :   A -> C\n",
      "Move 1 disc :   B -> A\n",
      "Move 2 disc :   B -> C\n",
      "Move 1 disc :   A -> C\n",
      "Move 3 disc :   B -> A\n",
      "Move 1 disc :   C -> B\n",
      "Move 2 disc :   C -> A\n",
      "Move 1 disc :   B -> A\n",
      "Move 4 disc :   B -> C\n",
      "Move 1 disc :   A -> C\n",
      "Move 2 disc :   A -> B\n",
      "Move 1 disc :   C -> B\n",
      "Move 3 disc :   A -> C\n",
      "Move 1 disc :   B -> A\n",
      "Move 2 disc :   B -> C\n",
      "Move 1 disc :   A -> C\n",
      "All discs are moved from source pole to destination pole\n"
     ]
    }
   ],
   "source": [
    "#considering number of discs and pole names from user\n",
    "n=int(input(\"Enter number of discs to be shifted: \"))\n",
    "A=input(\"Enter source pole name: \")\n",
    "B=input(\"Enter intermediate pole name: \")\n",
    "C=input(\"Enter destination pole name: \")\n",
    "#calling hanoi function\n",
    "hanoi(n,A,B,C)\n",
    "#printing the final statement\n",
    "print(\"All discs are moved from source pole to destination pole\")\n"
   ]
  },
  {
   "cell_type": "markdown",
   "id": "0e475903",
   "metadata": {},
   "source": [
    "..............................................................................."
   ]
  },
  {
   "cell_type": "code",
   "execution_count": null,
   "id": "46241929",
   "metadata": {},
   "outputs": [],
   "source": []
  }
 ],
 "metadata": {
  "kernelspec": {
   "display_name": "Python 3 (ipykernel)",
   "language": "python",
   "name": "python3"
  },
  "language_info": {
   "codemirror_mode": {
    "name": "ipython",
    "version": 3
   },
   "file_extension": ".py",
   "mimetype": "text/x-python",
   "name": "python",
   "nbconvert_exporter": "python",
   "pygments_lexer": "ipython3",
   "version": "3.9.7"
  }
 },
 "nbformat": 4,
 "nbformat_minor": 5
}

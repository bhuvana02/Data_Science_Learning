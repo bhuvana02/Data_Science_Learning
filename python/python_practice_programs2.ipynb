{
 "cells": [
  {
   "cell_type": "code",
   "execution_count": 1,
   "id": "de1517a7",
   "metadata": {},
   "outputs": [],
   "source": [
    "import pandas as pd\n",
    "import numpy as np"
   ]
  },
  {
   "cell_type": "markdown",
   "id": "42edb617",
   "metadata": {},
   "source": [
    "### 1.A number is a Disarium number if the sum of the digits raised to the power of its respective position in the original number is equal to that number itself. Which of the following is the Disarium number ?\n",
    "89 175 123` 131\n"
   ]
  },
  {
   "cell_type": "code",
   "execution_count": 2,
   "id": "fa4ba38b",
   "metadata": {},
   "outputs": [
    {
     "name": "stdout",
     "output_type": "stream",
     "text": [
      "Enter any number: 131\n"
     ]
    }
   ],
   "source": [
    "#consider a number from user\n",
    "number=input(\"Enter any number: \")\n",
    "\n",
    "#save the given number in a list\n",
    "x=list(number)"
   ]
  },
  {
   "cell_type": "code",
   "execution_count": 4,
   "id": "de0ade48",
   "metadata": {},
   "outputs": [],
   "source": [
    "# traverse the list , apply exponents according to the positions for each digit in a number and find its sum\n",
    "k=0\n",
    "for i in range(0,len(x)):\n",
    "      y=int(x[i])**(i+1)\n",
    "      k=k+y"
   ]
  },
  {
   "cell_type": "code",
   "execution_count": 5,
   "id": "bf057de9",
   "metadata": {},
   "outputs": [
    {
     "name": "stdout",
     "output_type": "stream",
     "text": [
      "131 is  not a Disarium number\n"
     ]
    }
   ],
   "source": [
    "#compare the obtained result with the given number \n",
    "if(k==int(number)):\n",
    "    print(number,\"is a Disarium number\") \n",
    "else:\n",
    "    print(number,\"is  not a Disarium number\")"
   ]
  },
  {
   "cell_type": "markdown",
   "id": "82b77dd7",
   "metadata": {},
   "source": [
    "### 1.Ans) Hence 89,175 are disarium numbers. 123,131 are not disarium numbers"
   ]
  },
  {
   "cell_type": "code",
   "execution_count": 16,
   "id": "5338fa34",
   "metadata": {},
   "outputs": [],
   "source": [
    "#..............................................................................."
   ]
  },
  {
   "cell_type": "markdown",
   "id": "95fe4035",
   "metadata": {},
   "source": [
    "### 2. Right now the time is 3:00 PM, if you will add 70 more hours, what would be the time then?"
   ]
  },
  {
   "cell_type": "code",
   "execution_count": 11,
   "id": "d1c7feb1",
   "metadata": {},
   "outputs": [],
   "source": [
    "#function to convert 12hrs time format to 24hrs time format:\n",
    "\n",
    "def convert_to_24hrs_format(time):\n",
    "    if time[:2]=='12' and time[-2:]=='AM':\n",
    "        return '00'+time[2:-2]\n",
    "    elif time[-2:]=='AM':\n",
    "        return time[:-2]\n",
    "    elif time[-2:]=='PM':\n",
    "        return str(int(time[:2])+12)+time[2:-2]\n",
    "    else:\n",
    "        return 'entered in wrong format'\n",
    "    "
   ]
  },
  {
   "cell_type": "code",
   "execution_count": 12,
   "id": "9f0fad2d",
   "metadata": {},
   "outputs": [],
   "source": [
    "#function to convert 24hrs time format to 2hrs time format:\n",
    "\n",
    "def convert_to_12hrs_format(time):\n",
    "    if int(time[:2])>12 :\n",
    "        return str(int(time[:2])-12)+time[2:]+' PM'\n",
    "    elif int(time[:2])==00:\n",
    "        return '12'+time[2:]+' AM'\n",
    "    else:\n",
    "        return time[::]+' AM'\n",
    "    "
   ]
  },
  {
   "cell_type": "code",
   "execution_count": 15,
   "id": "1a045d96",
   "metadata": {},
   "outputs": [
    {
     "name": "stdout",
     "output_type": "stream",
     "text": [
      "Enter time in 12 hrs time format [HH:MM:SS AM/PM] \n",
      "03:00:00 PM\n",
      "Enter number of hours to be incremented :\n",
      "70\n",
      "Required time : 1:00:00  PM\n"
     ]
    }
   ],
   "source": [
    "# consider time from user\n",
    "print(\"Enter time in 12 hrs time format [HH:MM:SS AM/PM] \")\n",
    "Given_time=input()\n",
    "\n",
    "#consider the hours to be incremented\n",
    "print(\"Enter number of hours to be incremented :\")\n",
    "change=int(input())\n",
    "\n",
    "#convert the given time to 24hrs time  format \n",
    "x=convert_to_24hrs_format(Given_time)\n",
    "\n",
    "#increment and apply mod . Save the obtained time in 24hrs time format in a variable\n",
    "y=int(x[:2])+change\n",
    "y=y%24\n",
    "final_time=str(y)+x[2:]\n",
    "\n",
    "\n",
    "#converting it to 12 hrs time format\n",
    "final_time=convert_to_12hrs_format(final_time)\n",
    "print(\"Required time :\",final_time)"
   ]
  },
  {
   "cell_type": "markdown",
   "id": "edef94a9",
   "metadata": {},
   "source": [
    "## 2.Ans  if  70 more hours are added to 3:00:00 PM then the time is 1:00:00  PM"
   ]
  },
  {
   "cell_type": "markdown",
   "id": "4e85a6a2",
   "metadata": {},
   "source": [
    "#.........................................................................................."
   ]
  },
  {
   "cell_type": "markdown",
   "id": "eabda598",
   "metadata": {},
   "source": [
    " ### 3. A cricket player's statistics in the last 10 games are :__\n",
    " \n",
    "     Runs Scored : 23 , 56, 67, 9, 56*, 90, 41, 40, 104, 3\n",
    "     \n",
    "     Balls Played : 45, 46, 90, 4, 44, 71, 70, 34, 81, 7\n",
    "\n",
    "### What is the average number of runs scored by the player in the last 10 games ?\n",
    "\n",
    "###  What is the strike rate of a player in the last 10 games?\n"
   ]
  },
  {
   "cell_type": "code",
   "execution_count": 19,
   "id": "71c1ea1d",
   "metadata": {},
   "outputs": [
    {
     "name": "stdout",
     "output_type": "stream",
     "text": [
      "Enter the number of runs scored by the player in last 10 games\n",
      "23\n",
      "56\n",
      "67\n",
      "9\n",
      "56\n",
      "90\n",
      "41\n",
      "40\n",
      "104\n",
      "3\n",
      "Runs_scored:  [23, 56, 67, 9, 56, 90, 41, 40, 104, 3]\n"
     ]
    }
   ],
   "source": [
    "#consider an empty list\n",
    "Runs_scored=[]\n",
    "\n",
    "#append user values(10) to the 'Runs_scored' list\n",
    "print(\"Enter the number of runs scored by the player in the last 10 games\")\n",
    "for i in range(10):\n",
    "    x=int(input())\n",
    "    Runs_scored.append(x)\n",
    "    \n",
    "#print the list for confirmation\n",
    "print (\"Runs_scored: \",Runs_scored)"
   ]
  },
  {
   "cell_type": "code",
   "execution_count": 24,
   "id": "4efc67f4",
   "metadata": {},
   "outputs": [
    {
     "name": "stdout",
     "output_type": "stream",
     "text": [
      "Enter the number of balls played by the player in the last 10 games\n",
      "45\n",
      "46\n",
      "90\n",
      "4\n",
      "44\n",
      "71\n",
      "70\n",
      "34\n",
      "81\n",
      "7\n",
      "Balls_Played:  [45, 46, 90, 4, 44, 71, 70, 34, 81, 7]\n"
     ]
    }
   ],
   "source": [
    "#consider an empty list\n",
    "Balls_Played=[]\n",
    "\n",
    "#append user values(10) to the 'Balls_Played' list\n",
    "print(\"Enter the number of balls played by the player in the last 10 games\")\n",
    "for i in range(10):\n",
    "    x=int(input())\n",
    "    Balls_Played.append(x)\n",
    "    \n",
    "print (\"Balls_Played: \",Balls_Played)"
   ]
  },
  {
   "cell_type": "code",
   "execution_count": 28,
   "id": "227ed8f6",
   "metadata": {},
   "outputs": [
    {
     "name": "stdout",
     "output_type": "stream",
     "text": [
      "Average number of runs scored by the player in the last 10 games:   48.9\n"
     ]
    }
   ],
   "source": [
    "#find average of runs_scored by adding all the scores in the list(Runs_scored) and dividing by total number of elements(10)\n",
    "Average=sum(Runs_scored)/10\n",
    "print(\"Average number of runs scored by the player in the last 10 games:  \",Average)"
   ]
  },
  {
   "cell_type": "code",
   "execution_count": 36,
   "id": "4827581f",
   "metadata": {},
   "outputs": [
    {
     "name": "stdout",
     "output_type": "stream",
     "text": [
      "The strike rate of the required player in the last 10 games: 99.39024390243902\n"
     ]
    }
   ],
   "source": [
    "# Strike Rate = (Runs_scored/ Balls_Played) * 100\n",
    "Strike_Rate=(sum(Runs_scored)/sum(Balls_Played))*100\n",
    "print(\"The strike rate of the required player in the last 10 games:\",Strike_Rate)"
   ]
  },
  {
   "cell_type": "markdown",
   "id": "c9331b84",
   "metadata": {},
   "source": [
    "### 3.Ans, a.Average number of runs scored by the player in the last 10 games:   48.9\n",
    "###       b.The strike rate of the required player in the last 10 games: 99.39\n",
    "\n",
    "    "
   ]
  },
  {
   "cell_type": "code",
   "execution_count": null,
   "id": "9b71d384",
   "metadata": {},
   "outputs": [],
   "source": [
    "#..............................................................................................."
   ]
  },
  {
   "cell_type": "markdown",
   "id": "a660f8e4",
   "metadata": {},
   "source": [
    "### 4. What is the value of the expression 100 / 25\n",
    "\n",
    "4, 4.0, Both, None\n"
   ]
  },
  {
   "cell_type": "code",
   "execution_count": 4,
   "id": "5f666e00",
   "metadata": {},
   "outputs": [
    {
     "name": "stdout",
     "output_type": "stream",
     "text": [
      "4.0\n"
     ]
    },
    {
     "data": {
      "text/plain": [
       "float"
      ]
     },
     "execution_count": 4,
     "metadata": {},
     "output_type": "execute_result"
    }
   ],
   "source": [
    "x=100 / 25\n",
    "print(x)\n",
    "type(x)"
   ]
  },
  {
   "cell_type": "markdown",
   "id": "7cc7a412",
   "metadata": {},
   "source": [
    "### 4.Ans, The value of the expression 100 / 25 is 4.0"
   ]
  },
  {
   "cell_type": "code",
   "execution_count": null,
   "id": "67e684aa",
   "metadata": {},
   "outputs": [],
   "source": [
    "#........................................................................................................"
   ]
  },
  {
   "cell_type": "markdown",
   "id": "216bcda8",
   "metadata": {},
   "source": [
    "## 5. What is the output of (1.1 + 2.2 == 3.3) ?\n",
    "True,   False\n",
    "\n"
   ]
  },
  {
   "cell_type": "code",
   "execution_count": 5,
   "id": "996d4d17",
   "metadata": {},
   "outputs": [
    {
     "data": {
      "text/plain": [
       "3.3000000000000003"
      ]
     },
     "execution_count": 5,
     "metadata": {},
     "output_type": "execute_result"
    }
   ],
   "source": [
    "1.1+2.2"
   ]
  },
  {
   "cell_type": "code",
   "execution_count": 6,
   "id": "6bc2fc45",
   "metadata": {},
   "outputs": [
    {
     "data": {
      "text/plain": [
       "False"
      ]
     },
     "execution_count": 6,
     "metadata": {},
     "output_type": "execute_result"
    }
   ],
   "source": [
    "1.1 + 2.2 == 3.3"
   ]
  },
  {
   "cell_type": "markdown",
   "id": "c5b39638",
   "metadata": {},
   "source": [
    "### 5.Ans, FALSE"
   ]
  },
  {
   "cell_type": "code",
   "execution_count": null,
   "id": "202604ed",
   "metadata": {},
   "outputs": [],
   "source": [
    "#..................................................................................................."
   ]
  },
  {
   "cell_type": "markdown",
   "id": "d6c306e5",
   "metadata": {},
   "source": [
    "### 6. Create a variable x with the value 10. Increase the value of x tenfold using an augmented assignment operator?"
   ]
  },
  {
   "cell_type": "code",
   "execution_count": 15,
   "id": "5b742f58",
   "metadata": {},
   "outputs": [
    {
     "name": "stdout",
     "output_type": "stream",
     "text": [
      "100\n"
     ]
    }
   ],
   "source": [
    "x=10\n",
    "x*=10\n",
    "print(x)"
   ]
  },
  {
   "cell_type": "markdown",
   "id": "ec4bd8de",
   "metadata": {},
   "source": [
    "### 6.Ans,100"
   ]
  },
  {
   "cell_type": "code",
   "execution_count": 18,
   "id": "a2fe2aff",
   "metadata": {},
   "outputs": [],
   "source": [
    "#..............................................................................."
   ]
  },
  {
   "cell_type": "markdown",
   "id": "55f6b16c",
   "metadata": {},
   "source": [
    "###  7.  Which of the following are valid Python variable names ?\n",
    "\n",
    "\n",
    "Var1.3,\n",
    "\n",
    "4tower,\n",
    "\n",
    "Age,\n",
    "\n",
    "Upi_id,\n",
    "\n",
    "Upi66,\n",
    "\n",
    "Return\n"
   ]
  },
  {
   "cell_type": "code",
   "execution_count": 24,
   "id": "5bc66be3",
   "metadata": {},
   "outputs": [
    {
     "ename": "SyntaxError",
     "evalue": "invalid syntax (<ipython-input-24-6927dcdec2c5>, line 1)",
     "output_type": "error",
     "traceback": [
      "\u001b[1;36m  File \u001b[1;32m\"<ipython-input-24-6927dcdec2c5>\"\u001b[1;36m, line \u001b[1;32m1\u001b[0m\n\u001b[1;33m    Var1.3= 3  #Error as special character period exists\u001b[0m\n\u001b[1;37m        ^\u001b[0m\n\u001b[1;31mSyntaxError\u001b[0m\u001b[1;31m:\u001b[0m invalid syntax\n"
     ]
    }
   ],
   "source": [
    "Var1.3= 3  #Error as special character period exists"
   ]
  },
  {
   "cell_type": "code",
   "execution_count": 26,
   "id": "3fbf6341",
   "metadata": {},
   "outputs": [
    {
     "ename": "SyntaxError",
     "evalue": "invalid syntax (<ipython-input-26-786f581564be>, line 1)",
     "output_type": "error",
     "traceback": [
      "\u001b[1;36m  File \u001b[1;32m\"<ipython-input-26-786f581564be>\"\u001b[1;36m, line \u001b[1;32m1\u001b[0m\n\u001b[1;33m    4tower= 4 #Error as variable name starting with a digit\u001b[0m\n\u001b[1;37m     ^\u001b[0m\n\u001b[1;31mSyntaxError\u001b[0m\u001b[1;31m:\u001b[0m invalid syntax\n"
     ]
    }
   ],
   "source": [
    "4tower= 4 #Error as variable name starting with a digit"
   ]
  },
  {
   "cell_type": "code",
   "execution_count": 28,
   "id": "266a7fa2",
   "metadata": {},
   "outputs": [],
   "source": [
    "Age = 23"
   ]
  },
  {
   "cell_type": "code",
   "execution_count": 29,
   "id": "dce3f979",
   "metadata": {},
   "outputs": [],
   "source": [
    "Upi_id=56"
   ]
  },
  {
   "cell_type": "code",
   "execution_count": 30,
   "id": "77f68ca3",
   "metadata": {},
   "outputs": [],
   "source": [
    "Upi66 = 76"
   ]
  },
  {
   "cell_type": "code",
   "execution_count": 32,
   "id": "81625190",
   "metadata": {},
   "outputs": [],
   "source": [
    "Return=90 # it is valid variable name as Return is not a keyword (where return is a keyword)"
   ]
  },
  {
   "cell_type": "markdown",
   "id": "a0a24880",
   "metadata": {},
   "source": [
    "###  7,Ans:      Age, Upi_id, Upi66, Return are valid Python variable names"
   ]
  },
  {
   "cell_type": "code",
   "execution_count": 38,
   "id": "beb1f1c4",
   "metadata": {},
   "outputs": [],
   "source": [
    "#........................................................................................."
   ]
  },
  {
   "cell_type": "markdown",
   "id": "26efa7a8",
   "metadata": {},
   "source": [
    "### 8.What is the value of Temperature 101.5 degree Celsius into degree Fahrenheit "
   ]
  },
  {
   "cell_type": "code",
   "execution_count": 41,
   "id": "c9b25e61",
   "metadata": {},
   "outputs": [
    {
     "name": "stdout",
     "output_type": "stream",
     "text": [
      "Enter temperature in degree Celsius: 101.5\n"
     ]
    }
   ],
   "source": [
    "#consider the temerature in degree celsius from user\n",
    "temperature_celsius=float(input(\"Enter temperature in degree Celsius: \"))"
   ]
  },
  {
   "cell_type": "code",
   "execution_count": 45,
   "id": "4e4186d3",
   "metadata": {},
   "outputs": [
    {
     "name": "stdout",
     "output_type": "stream",
     "text": [
      "Temperature in degree Fahrenheit:  214.70000000000002\n"
     ]
    }
   ],
   "source": [
    "#apply the conversion formula \n",
    "temperature_fahrenheit=(temperature_celsius*1.8)+32\n",
    "print(\"Temperature in degree Fahrenheit: \",temperature_fahrenheit)"
   ]
  },
  {
   "cell_type": "markdown",
   "id": "1ce3cdbf",
   "metadata": {},
   "source": [
    "### 8, Ans: Hence Temperature in degree Fahrenheit:  214.7"
   ]
  },
  {
   "cell_type": "code",
   "execution_count": null,
   "id": "e5c844d6",
   "metadata": {},
   "outputs": [],
   "source": [
    "#............................................................................"
   ]
  },
  {
   "cell_type": "markdown",
   "id": "004df323",
   "metadata": {},
   "source": [
    "### 9.What will be the value for x after executing the following code :-\n",
    "\n",
    "x = 0\n",
    "\n",
    "a = 0\n",
    "\n",
    "b = -5\n",
    "\n",
    "if a > 0:\n",
    "\n",
    "    if b < 0: \n",
    "    \n",
    "        x = x + 5 \n",
    "        \n",
    "    elif a > 5:\n",
    "    \n",
    "        x = x + 4\n",
    "        \n",
    "    else:\n",
    "    \n",
    "        x = x + 3\n",
    "        \n",
    "else:\n",
    "\n",
    "    x = x + 2\n",
    "\n",
    "\n",
    "\n",
    "### Ans: 2 is the output"
   ]
  },
  {
   "cell_type": "code",
   "execution_count": null,
   "id": "e4c0d25e",
   "metadata": {},
   "outputs": [],
   "source": [
    "#..........................................................................."
   ]
  },
  {
   "cell_type": "markdown",
   "id": "b0f4928b",
   "metadata": {},
   "source": [
    "### 10. What will be the value of the following code :-\n",
    "\n",
    "print( not ( not a == 10 or not b == 10) )\n",
    "\n",
    "### Ans: True , since 'not' reverses the original result"
   ]
  },
  {
   "cell_type": "code",
   "execution_count": 54,
   "id": "4f041414",
   "metadata": {},
   "outputs": [],
   "source": [
    "#..........................................................................................................."
   ]
  },
  {
   "cell_type": "markdown",
   "id": "a675a117",
   "metadata": {},
   "source": [
    "### 11. What does the following code print out?\n",
    "\n",
    "print(\"123\" + \"abc\")\n",
    " \n",
    "hello world\n",
    "\n",
    "123+abc\n",
    "\n",
    "This is a syntax error because you cannot add strings\n",
    "\n",
    "123abc\n",
    "### 123abc as both '123' and 'abc' are strings and '+' operator combines two strings"
   ]
  },
  {
   "cell_type": "code",
   "execution_count": 57,
   "id": "7c90520f",
   "metadata": {
    "scrolled": true
   },
   "outputs": [],
   "source": [
    "#..................................................................................................."
   ]
  },
  {
   "cell_type": "markdown",
   "id": "e86900cb",
   "metadata": {},
   "source": [
    "### 12. Which of these operators is not a comparison / logical operator?\n",
    " \n",
    "=,==,<,> =,!=\n",
    "\n",
    "### Ans:'='  is not a comparison/logical operator . '='(equal to) is a Assignment operator."
   ]
  },
  {
   "cell_type": "code",
   "execution_count": null,
   "id": "1d45dde6",
   "metadata": {},
   "outputs": [],
   "source": [
    "#......................................................................................................."
   ]
  },
  {
   "cell_type": "markdown",
   "id": "c338b3a7",
   "metadata": {},
   "source": [
    "### 13. What is true about the following code segment:\n",
    "if  x == 5 :\n",
    "    \n",
    "    print('Is 5')\n",
    "    \n",
    "    print('Is Still 5')\n",
    "    \n",
    "    print('Third 5')\n",
    " \n",
    "A Depending on the value of x, either all three of the print statements will execute or none of the statements will execute\n",
    "\n",
    "B The string 'Is 5' will always print out regardless of the value for x.\n",
    "\n",
    "C The string 'Is 5' will never print out regardless of the value for x.\n",
    "\n",
    "D Only two of the three print statements will print out if the value of x is less than zero.\n",
    "\n",
    "### Ans:option A is correct i.e, Depending on the value of x, either all three of the print statements will execute or none of the statements will execute as all the statements belong to the same 'if condition statement' and executes when the condition given is true.\n"
   ]
  },
  {
   "cell_type": "code",
   "execution_count": null,
   "id": "9b5fd6f6",
   "metadata": {},
   "outputs": [],
   "source": [
    "#........................................................................................"
   ]
  },
  {
   "cell_type": "markdown",
   "id": "edfb2141",
   "metadata": {},
   "source": [
    "### 14. For the following code,\n",
    "\n",
    "if x < 2 :\n",
    "\n",
    "    print('Below 2')\n",
    "    \n",
    "elif x >= 2 :\n",
    "\n",
    "     print('Two or more')\n",
    "     \n",
    "else :\n",
    "\n",
    "    print('Something else')\n",
    "    \n",
    "What value of 'x' will cause 'Something else' to print out?\n",
    "\n",
    "A.\tThis code will never print 'Something else' regardless of the value for 'x'\n",
    "\n",
    "B.\tx = -2\n",
    "\n",
    "C.\tx = -2.0\n",
    "\n",
    "D.\tx = 2.0\n",
    "### Ans: option 'A' is correct i.e \"This code will never print 'Something else' regardless of the value for 'x' \"( as there is no number between lesser than 2 and equal to or greater than 2)"
   ]
  },
  {
   "cell_type": "code",
   "execution_count": null,
   "id": "154b2aeb",
   "metadata": {},
   "outputs": [],
   "source": [
    "#............................................................................................"
   ]
  },
  {
   "cell_type": "markdown",
   "id": "bb7e90c7",
   "metadata": {},
   "source": [
    "### 15,There are 100 doors in a row, all doors are initially closed. A person walks through all doors multiple times and toggles (if open then close, if close then open) them in the following way: \n",
    "In the first walk, the person toggles every door \n",
    "\n",
    "In the second walk, the person toggles every second door, i.e., 2nd, 4th, 6th, 8th, … \n",
    "\n",
    "In the third walk, the person toggles every third door, i.e. 3rd, 6th, 9th, … \n",
    "\n",
    "……… \n",
    "………. \n",
    "\n",
    "\n",
    "In the 100th walk, the person toggles the 100th door. \n",
    " \n",
    "What will be the position of door number 53 after this entire process ?\n",
    " \n",
    "Open\n",
    "Closed\n",
    "\n",
    "### Ans: closed \n",
    "###     Reason: 53 is not a perfect square. Hence Even number of operations are operated on it.\n",
    "###              Initially all doors are closed, after even number of operations the door no.53 is closed."
   ]
  },
  {
   "cell_type": "code",
   "execution_count": 68,
   "id": "2fced684",
   "metadata": {},
   "outputs": [
    {
     "name": "stdout",
     "output_type": "stream",
     "text": [
      "Enter Door number :53\n",
      "Door is closed\n"
     ]
    }
   ],
   "source": [
    "x=int(input(\"Enter Door number :\"))\n",
    "if(x**(1/2)%1==0):\n",
    "   print(\"Door is opened\")\n",
    "else:\n",
    "    print(\"Door is closed\")"
   ]
  },
  {
   "cell_type": "code",
   "execution_count": null,
   "id": "4fb3a690",
   "metadata": {},
   "outputs": [],
   "source": []
  },
  {
   "cell_type": "code",
   "execution_count": null,
   "id": "ad2f354f",
   "metadata": {},
   "outputs": [],
   "source": []
  }
 ],
 "metadata": {
  "kernelspec": {
   "display_name": "Python 3 (ipykernel)",
   "language": "python",
   "name": "python3"
  },
  "language_info": {
   "codemirror_mode": {
    "name": "ipython",
    "version": 3
   },
   "file_extension": ".py",
   "mimetype": "text/x-python",
   "name": "python",
   "nbconvert_exporter": "python",
   "pygments_lexer": "ipython3",
   "version": "3.9.7"
  }
 },
 "nbformat": 4,
 "nbformat_minor": 5
}
